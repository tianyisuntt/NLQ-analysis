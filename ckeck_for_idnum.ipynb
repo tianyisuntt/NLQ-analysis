{
 "cells": [
  {
   "cell_type": "code",
   "execution_count": 1,
   "id": "2ea2895c",
   "metadata": {},
   "outputs": [],
   "source": [
    "#filepath = r'/Users/tianyisun/Desktop/NLQbatches/nlqueryof3models/tsp-nlquery.txt'\n",
    "#m1_nlq = pd.read_csv(filepath, sep='delimiter', header=None)\n",
    "#m1_nlq.to_csv(r'/Users/tianyisun/Desktop/NLQbatches/nlqueryof3models/tsp-nlquery.csv', index=None)\n"
   ]
  },
  {
   "cell_type": "markdown",
   "id": "1a806fdc",
   "metadata": {},
   "source": [
    "---"
   ]
  },
  {
   "cell_type": "code",
   "execution_count": 283,
   "id": "728529ae",
   "metadata": {},
   "outputs": [
    {
     "name": "stdout",
     "output_type": "stream",
     "text": [
      "/Users/tianyisun/Desktop/NLQbatches/batch5/batch5_round1/batch5_category_Krippendroffis_alpha.csv\n",
      "/Users/tianyisun/Desktop/NLQbatches/batch5/batch5_round1/batch5_proc1.csv\n",
      "/Users/tianyisun/Desktop/NLQbatches/batch5/batch5_round1/batch5_sql-type_Krippendroffis_alpha.csv\n",
      "/Users/tianyisun/Desktop/NLQbatches/batch5/batch5_round1/annotation_feedback_batch5.csv\n",
      "/Users/tianyisun/Desktop/NLQbatches/batch5/batch5_round1/batch5_category_results.csv\n",
      "/Users/tianyisun/Desktop/NLQbatches/batch5/batch5_round1/batch5_sql-category_Krippendroffis_alpha.csv\n",
      "/Users/tianyisun/Desktop/NLQbatches/batch5/batch5_round1/batch5_type_stability.csv\n",
      "/Users/tianyisun/Desktop/NLQbatches/batch5/batch5_round1/batch5_sql-type_Fleiss_kappa.csv\n",
      "/Users/tianyisun/Desktop/NLQbatches/batch5/batch5_round1/batch5_annotationtask_sql_type.csv\n",
      "/Users/tianyisun/Desktop/NLQbatches/batch5/batch5_round1/13annotation_feedback_batch5.csv\n",
      "/Users/tianyisun/Desktop/NLQbatches/batch5/batch5_round1/batch5_category_Fleiss_kappa.csv\n",
      "/Users/tianyisun/Desktop/NLQbatches/batch5/batch5_round1/batch5_agreements.csv\n",
      "/Users/tianyisun/Desktop/NLQbatches/batch5/batch5_round1/batch5_annotationtask_sql_errorcategory.csv\n",
      "/Users/tianyisun/Desktop/NLQbatches/batch5/batch5_round1/batch5_category_stability.csv\n"
     ]
    }
   ],
   "source": [
    "import numpy as np \n",
    "import pandas as pd\n",
    "import matplotlib.pyplot as plt \n",
    "from textwrap import wrap\n",
    "import re\n",
    "import seaborn as sns\n",
    "from pandas import DataFrame\n",
    "import math \n",
    "\n",
    "import os\n",
    "for dirname, _, filenames in os.walk('/Users/tianyisun/Desktop/NLQbatches/batch5/batch5_round1'):\n",
    "    for filename in filenames:\n",
    "        print(os.path.join(dirname, filename))"
   ]
  },
  {
   "cell_type": "code",
   "execution_count": 120,
   "id": "45d9b0e1",
   "metadata": {},
   "outputs": [],
   "source": [
    "b1r2 = '/Users/tianyisun/Desktop/NLQbatches/batch1/batch1_round2/revise1_ning_tian.csv'\n",
    "b1r2 = pd.read_csv(b1r2)\n",
    "b1r1 = '/Users/tianyisun/Desktop/NLQbatches/batch1/batch1_round1/First-round error type annotation.csv'\n",
    "b1r1 = pd.read_csv(b1r1)\n",
    "#b1r2.sql_id\n",
    "\n",
    "nlq1 = '/Users/tianyisun/Desktop/NLQbatches/nlqueryof3models/smbop-nlquery.csv'\n",
    "nlq1 = pd.read_csv(nlq1)\n",
    "\n",
    "len(b1r1[['sql_id', 'nl_query']].value_counts().index.values)\n",
    "\n",
    "mg1 = pd.merge(b1r1[['sql', 'nl_query']], b1r2, on = 'sql', how = 'left') \n",
    "len(mg1['nl_query'].value_counts().index.values)\n",
    "\n",
    "\n",
    "for i in mg1[mg1.duplicated() == True].index:\n",
    "    mg1 = mg1.drop(i)\n",
    "\n",
    "#mg1.to_csv('/Users/tianyisun/Desktop/NLQbatches/batch1/batch1_round2.csv', index = True)"
   ]
  },
  {
   "cell_type": "code",
   "execution_count": 121,
   "id": "9b5b8f64",
   "metadata": {},
   "outputs": [
    {
     "data": {
      "text/plain": [
       "47"
      ]
     },
     "execution_count": 121,
     "metadata": {},
     "output_type": "execute_result"
    }
   ],
   "source": [
    "len(mg1)"
   ]
  },
  {
   "cell_type": "code",
   "execution_count": 85,
   "id": "7d25b752",
   "metadata": {},
   "outputs": [
    {
     "data": {
      "text/plain": [
       "46"
      ]
     },
     "execution_count": 85,
     "metadata": {},
     "output_type": "execute_result"
    }
   ],
   "source": [
    "b2r1 = '/Users/tianyisun/Desktop/NLQbatches/batch2/batch2_round1/annotation_feedback_batch2.csv'\n",
    "b2r1 = pd.read_csv(b2r1)\n",
    "b2r2 = '/Users/tianyisun/Desktop/NLQbatches/batch2/batch2_round2/revise2_ning_tian.csv'\n",
    "b2r2 = pd.read_csv(b2r2)\n",
    "#len(b2r2['nl_query'].value_counts().index.values)\n",
    "mg2 = pd.merge(b2r1[['sql', 'nl_query']], b2r2, on = 'sql', how = 'outer') \n",
    "len(mg2['nl_query'].value_counts().index.values)\n",
    "\n",
    "for i in mg2[mg2.nl_query.duplicated() == True].index:\n",
    "    mg2 = mg2.drop(i)\n",
    "#mg2.to_csv('/Users/tianyisun/Desktop/NLQbatches/batch2/batch2_round2.csv', index = True)"
   ]
  },
  {
   "cell_type": "code",
   "execution_count": 104,
   "id": "ca9dc451",
   "metadata": {},
   "outputs": [],
   "source": [
    "b3r2 ='/Users/tianyisun/Desktop/NLQbatches/batch3/batch3_round2/revise3_ning_tian.csv'\n",
    "b3r2 = pd.read_csv(b3r2)\n",
    "b3r1 = '/Users/tianyisun/Desktop/NLQbatches/batch3/batch3_round1/annotation_feedback_batch3.csv'\n",
    "b3r1 = pd.read_csv(b3r1)\n",
    "\n",
    "#len(b3r1['nl_query'].value_counts().index.values)\n",
    "mg3 = pd.merge(b3r1[['sql', 'nl_query']], b3r2, on = 'sql', how = 'outer') \n",
    "len(mg3['nl_query'].value_counts().index.values)\n",
    "for i in mg3[mg3.nl_query.duplicated() == True].index:\n",
    "    mg3 = mg3.drop(i)\n",
    "#mg3.to_csv('/Users/tianyisun/Desktop/NLQbatches/batch3/batch3_round2.csv', index = True)"
   ]
  },
  {
   "cell_type": "code",
   "execution_count": 462,
   "id": "c3613f86",
   "metadata": {},
   "outputs": [],
   "source": [
    "b4r1 = '/Users/tianyisun/Desktop/NLQbatches/smbop/batch4/batch4_round1/annotation_feedback_batch4 2.csv'\n",
    "b4r1 = pd.read_csv(b4r1)\n",
    "b4r2 ='/Users/tianyisun/Desktop/NLQbatches/smbop/batch4/batch4_round2/correct_batch4.csv'\n",
    "b4r2 = pd.read_csv(b4r2)\n",
    "b4r2f = '/Users/tianyisun/Desktop/NLQbatches/smbop/batch4/batch4_round2/correct_batch4_final.csv'\n",
    "b4r2f = pd.read_csv(b4r2f)\n",
    "b4r2 = b4r2.rename(columns={\"error_classification_x\": \"tianyi_code\", \"error_classification_y\": \"zhengn_code\"})"
   ]
  },
  {
   "cell_type": "code",
   "execution_count": 463,
   "id": "35b10bfb",
   "metadata": {},
   "outputs": [
    {
     "data": {
      "text/plain": [
       "313"
      ]
     },
     "execution_count": 463,
     "metadata": {},
     "output_type": "execute_result"
    }
   ],
   "source": [
    "for i in b4r1[b4r1.nl_query.duplicated() == True].index:\n",
    "    b4r1 = b4r1.drop(i)\n",
    "    \n",
    "len(b4r1)"
   ]
  },
  {
   "cell_type": "code",
   "execution_count": 467,
   "id": "c1b7e905",
   "metadata": {},
   "outputs": [],
   "source": [
    "b4r2 = b4r2[['nl_query', 'sql', 'GT_sql', 'tianyi', 'tianyi_code', 'zhengn', 'zhengn_code' ]]\n"
   ]
  },
  {
   "cell_type": "code",
   "execution_count": 469,
   "id": "93a99b4e",
   "metadata": {},
   "outputs": [],
   "source": [
    "b4r2f = b4r2f[['nl_query', 'sql', 'GT_sql', 'tianyi', 'tianyi_code', 'zhengn', 'zhengn_code' ]]\n"
   ]
  },
  {
   "cell_type": "code",
   "execution_count": 470,
   "id": "8df456d2",
   "metadata": {},
   "outputs": [],
   "source": [
    "mg4 = b4r2.loc[~b4r2['nl_query'].isin(b4r2f['nl_query'])].append(b4r2f)"
   ]
  },
  {
   "cell_type": "code",
   "execution_count": 479,
   "id": "d1f7b2ad",
   "metadata": {},
   "outputs": [
    {
     "data": {
      "text/html": [
       "<div>\n",
       "<style scoped>\n",
       "    .dataframe tbody tr th:only-of-type {\n",
       "        vertical-align: middle;\n",
       "    }\n",
       "\n",
       "    .dataframe tbody tr th {\n",
       "        vertical-align: top;\n",
       "    }\n",
       "\n",
       "    .dataframe thead th {\n",
       "        text-align: right;\n",
       "    }\n",
       "</style>\n",
       "<table border=\"1\" class=\"dataframe\">\n",
       "  <thead>\n",
       "    <tr style=\"text-align: right;\">\n",
       "      <th></th>\n",
       "      <th>nl_query</th>\n",
       "      <th>sql</th>\n",
       "      <th>GT_sql</th>\n",
       "      <th>tianyi</th>\n",
       "      <th>tianyi_code</th>\n",
       "      <th>zhengn</th>\n",
       "      <th>zhengn_code</th>\n",
       "    </tr>\n",
       "  </thead>\n",
       "  <tbody>\n",
       "  </tbody>\n",
       "</table>\n",
       "</div>"
      ],
      "text/plain": [
       "Empty DataFrame\n",
       "Columns: [nl_query, sql, GT_sql, tianyi, tianyi_code, zhengn, zhengn_code]\n",
       "Index: []"
      ]
     },
     "execution_count": 479,
     "metadata": {},
     "output_type": "execute_result"
    }
   ],
   "source": [
    "mg4.head(0)"
   ]
  },
  {
   "cell_type": "code",
   "execution_count": 475,
   "id": "f66c62ca",
   "metadata": {},
   "outputs": [],
   "source": [
    "b4r1 = pd.merge(b4r1[b4r1.username == 'tianyi'][[ 'sql', 'nl_query', 'GT_sql','username', 'error_classification']],\n",
    "                b4r1[b4r1.username == 'zhengning'][[ 'sql', 'nl_query', 'GT_sql','username', 'error_classification']],\n",
    "                on = ['sql', 'nl_query', 'GT_sql'],\n",
    "                how = 'outer')"
   ]
  },
  {
   "cell_type": "code",
   "execution_count": 478,
   "id": "88410918",
   "metadata": {},
   "outputs": [
    {
     "data": {
      "text/html": [
       "<div>\n",
       "<style scoped>\n",
       "    .dataframe tbody tr th:only-of-type {\n",
       "        vertical-align: middle;\n",
       "    }\n",
       "\n",
       "    .dataframe tbody tr th {\n",
       "        vertical-align: top;\n",
       "    }\n",
       "\n",
       "    .dataframe thead th {\n",
       "        text-align: right;\n",
       "    }\n",
       "</style>\n",
       "<table border=\"1\" class=\"dataframe\">\n",
       "  <thead>\n",
       "    <tr style=\"text-align: right;\">\n",
       "      <th></th>\n",
       "      <th>sql</th>\n",
       "      <th>nl_query</th>\n",
       "      <th>GT_sql</th>\n",
       "      <th>tianyi</th>\n",
       "      <th>tianyi_code</th>\n",
       "      <th>zhengn</th>\n",
       "      <th>zhengn_code</th>\n",
       "    </tr>\n",
       "  </thead>\n",
       "  <tbody>\n",
       "    <tr>\n",
       "      <th>0</th>\n",
       "      <td>SELECT customers.customer_name FROM customers ...</td>\n",
       "      <td>Which customers made orders between 2009-01-01...</td>\n",
       "      <td>SELECT T1.customer_name FROM customers AS T1 J...</td>\n",
       "      <td>tianyi</td>\n",
       "      <td>F1, F2</td>\n",
       "      <td>NaN</td>\n",
       "      <td>NaN</td>\n",
       "    </tr>\n",
       "  </tbody>\n",
       "</table>\n",
       "</div>"
      ],
      "text/plain": [
       "                                                 sql  \\\n",
       "0  SELECT customers.customer_name FROM customers ...   \n",
       "\n",
       "                                            nl_query  \\\n",
       "0  Which customers made orders between 2009-01-01...   \n",
       "\n",
       "                                              GT_sql  tianyi tianyi_code  \\\n",
       "0  SELECT T1.customer_name FROM customers AS T1 J...  tianyi      F1, F2   \n",
       "\n",
       "  zhengn zhengn_code  \n",
       "0    NaN         NaN  "
      ]
     },
     "execution_count": 478,
     "metadata": {},
     "output_type": "execute_result"
    }
   ],
   "source": [
    "\n",
    "b4r1 = b4r1.rename(columns={\"username_y\": \"zhengn\", \"username_x\": \"tianyi\", \"error_classification_x\": \"tianyi_code\", \"error_classification_y\": \"zhengn_code\"})\n",
    "b4r1.head(1)"
   ]
  },
  {
   "cell_type": "code",
   "execution_count": 480,
   "id": "3cea2f5f",
   "metadata": {},
   "outputs": [],
   "source": [
    "mg4f = b4r1.loc[~b4r1['nl_query'].isin(mg4['nl_query'])].append(mg4)"
   ]
  },
  {
   "cell_type": "code",
   "execution_count": 491,
   "id": "7c0ba978",
   "metadata": {},
   "outputs": [
    {
     "data": {
      "text/plain": [
       "313"
      ]
     },
     "execution_count": 491,
     "metadata": {},
     "output_type": "execute_result"
    }
   ],
   "source": [
    "len(b4r1.nl_query.value_counts().index.values)"
   ]
  },
  {
   "cell_type": "code",
   "execution_count": 493,
   "id": "97bc93bc",
   "metadata": {},
   "outputs": [],
   "source": [
    "mg4f = pd.read_csv('/Users/tianyisun/Desktop/NLQbatches/smbop/batch4/batch4_round2.csv')"
   ]
  },
  {
   "cell_type": "code",
   "execution_count": 511,
   "id": "f86ca85b",
   "metadata": {
    "collapsed": true
   },
   "outputs": [
    {
     "data": {
      "text/html": [
       "<div>\n",
       "<style scoped>\n",
       "    .dataframe tbody tr th:only-of-type {\n",
       "        vertical-align: middle;\n",
       "    }\n",
       "\n",
       "    .dataframe tbody tr th {\n",
       "        vertical-align: top;\n",
       "    }\n",
       "\n",
       "    .dataframe thead th {\n",
       "        text-align: right;\n",
       "    }\n",
       "</style>\n",
       "<table border=\"1\" class=\"dataframe\">\n",
       "  <thead>\n",
       "    <tr style=\"text-align: right;\">\n",
       "      <th></th>\n",
       "      <th>sql</th>\n",
       "      <th>nl_query</th>\n",
       "      <th>GT_sql</th>\n",
       "      <th>tianyi</th>\n",
       "      <th>tianyi_code</th>\n",
       "      <th>zhengn</th>\n",
       "      <th>zhengn_code</th>\n",
       "    </tr>\n",
       "  </thead>\n",
       "  <tbody>\n",
       "    <tr>\n",
       "      <th>0</th>\n",
       "      <td>SELECT station.name , station.location FROM st...</td>\n",
       "      <td>List the names and locations of all stations o...</td>\n",
       "      <td>SELECT name ,  LOCATION FROM station ORDER BY ...</td>\n",
       "      <td>tianyi</td>\n",
       "      <td>K3</td>\n",
       "      <td>zhengning</td>\n",
       "      <td>K3</td>\n",
       "    </tr>\n",
       "    <tr>\n",
       "      <th>1</th>\n",
       "      <td>SELECT student.major , AVG( student.age ) , MI...</td>\n",
       "      <td>Show the average, minimum, and maximum age for...</td>\n",
       "      <td>SELECT major ,  avg(age) ,  min(age) ,  max(ag...</td>\n",
       "      <td>tianyi</td>\n",
       "      <td>L5</td>\n",
       "      <td>zhengning</td>\n",
       "      <td>L5</td>\n",
       "    </tr>\n",
       "    <tr>\n",
       "      <th>2</th>\n",
       "      <td>SELECT physician.name FROM physician WHERE phy...</td>\n",
       "      <td>List the name of physicians who never took any...</td>\n",
       "      <td>SELECT name FROM physician EXCEPT SELECT T2.na...</td>\n",
       "      <td>tianyi</td>\n",
       "      <td>NaN</td>\n",
       "      <td>zhengning</td>\n",
       "      <td>NaN</td>\n",
       "    </tr>\n",
       "    <tr>\n",
       "      <th>3</th>\n",
       "      <td>SELECT journalist.name , event.name FROM news_...</td>\n",
       "      <td>Show the names of journalists and the names of...</td>\n",
       "      <td>SELECT T3.Name ,  T2.Name FROM news_report AS ...</td>\n",
       "      <td>tianyi</td>\n",
       "      <td>K3</td>\n",
       "      <td>zhengning</td>\n",
       "      <td>K3</td>\n",
       "    </tr>\n",
       "    <tr>\n",
       "      <th>4</th>\n",
       "      <td>SELECT projects.project_details FROM projects ...</td>\n",
       "      <td>What are the details of the project with no ou...</td>\n",
       "      <td>SELECT project_details FROM Projects WHERE pro...</td>\n",
       "      <td>tianyi</td>\n",
       "      <td>NaN</td>\n",
       "      <td>zhengning</td>\n",
       "      <td>NaN</td>\n",
       "    </tr>\n",
       "    <tr>\n",
       "      <th>...</th>\n",
       "      <td>...</td>\n",
       "      <td>...</td>\n",
       "      <td>...</td>\n",
       "      <td>...</td>\n",
       "      <td>...</td>\n",
       "      <td>...</td>\n",
       "      <td>...</td>\n",
       "    </tr>\n",
       "    <tr>\n",
       "      <th>308</th>\n",
       "      <td>SELECT university.founded FROM university WHER...</td>\n",
       "      <td>Find the founded year of the newest non public...</td>\n",
       "      <td>SELECT founded FROM university WHERE affiliati...</td>\n",
       "      <td>tianyi</td>\n",
       "      <td>D1a, K2</td>\n",
       "      <td>zhengning</td>\n",
       "      <td>K2, D1a</td>\n",
       "    </tr>\n",
       "    <tr>\n",
       "      <th>309</th>\n",
       "      <td>SELECT organisations.organisation_details FROM...</td>\n",
       "      <td>What are the details of all organizations that...</td>\n",
       "      <td>SELECT organisation_details FROM Organisations...</td>\n",
       "      <td>tianyi</td>\n",
       "      <td>CE2, D1b</td>\n",
       "      <td>zhengning</td>\n",
       "      <td>D1c, CE2</td>\n",
       "    </tr>\n",
       "    <tr>\n",
       "      <th>310</th>\n",
       "      <td>SELECT MAX( postseason.league_id_loser ) FROM ...</td>\n",
       "      <td>List the maximum scores of the team Boston Red...</td>\n",
       "      <td>SELECT max(T1.wins) FROM postseason AS T1 JOIN...</td>\n",
       "      <td>tianyi</td>\n",
       "      <td>BL1, BE5</td>\n",
       "      <td>zhengning</td>\n",
       "      <td>BL1, BE5</td>\n",
       "    </tr>\n",
       "    <tr>\n",
       "      <th>311</th>\n",
       "      <td>SELECT statements.statement_details , document...</td>\n",
       "      <td>Show the statement detail and the correspondin...</td>\n",
       "      <td>SELECT T1.statement_details ,  T2.document_nam...</td>\n",
       "      <td>tianyi</td>\n",
       "      <td>BF4, CF5</td>\n",
       "      <td>zhengning</td>\n",
       "      <td>CF5</td>\n",
       "    </tr>\n",
       "    <tr>\n",
       "      <th>312</th>\n",
       "      <td>SELECT car_makers.fullname , COUNT( * ) FROM m...</td>\n",
       "      <td>What is the full name of each car maker, along...</td>\n",
       "      <td>NaN</td>\n",
       "      <td>NaN</td>\n",
       "      <td>NaN</td>\n",
       "      <td>NaN</td>\n",
       "      <td>NaN</td>\n",
       "    </tr>\n",
       "  </tbody>\n",
       "</table>\n",
       "<p>313 rows × 7 columns</p>\n",
       "</div>"
      ],
      "text/plain": [
       "                                                   sql  \\\n",
       "0    SELECT station.name , station.location FROM st...   \n",
       "1    SELECT student.major , AVG( student.age ) , MI...   \n",
       "2    SELECT physician.name FROM physician WHERE phy...   \n",
       "3    SELECT journalist.name , event.name FROM news_...   \n",
       "4    SELECT projects.project_details FROM projects ...   \n",
       "..                                                 ...   \n",
       "308  SELECT university.founded FROM university WHER...   \n",
       "309  SELECT organisations.organisation_details FROM...   \n",
       "310  SELECT MAX( postseason.league_id_loser ) FROM ...   \n",
       "311  SELECT statements.statement_details , document...   \n",
       "312  SELECT car_makers.fullname , COUNT( * ) FROM m...   \n",
       "\n",
       "                                              nl_query  \\\n",
       "0    List the names and locations of all stations o...   \n",
       "1    Show the average, minimum, and maximum age for...   \n",
       "2    List the name of physicians who never took any...   \n",
       "3    Show the names of journalists and the names of...   \n",
       "4    What are the details of the project with no ou...   \n",
       "..                                                 ...   \n",
       "308  Find the founded year of the newest non public...   \n",
       "309  What are the details of all organizations that...   \n",
       "310  List the maximum scores of the team Boston Red...   \n",
       "311  Show the statement detail and the correspondin...   \n",
       "312  What is the full name of each car maker, along...   \n",
       "\n",
       "                                                GT_sql  tianyi tianyi_code  \\\n",
       "0    SELECT name ,  LOCATION FROM station ORDER BY ...  tianyi          K3   \n",
       "1    SELECT major ,  avg(age) ,  min(age) ,  max(ag...  tianyi          L5   \n",
       "2    SELECT name FROM physician EXCEPT SELECT T2.na...  tianyi         NaN   \n",
       "3    SELECT T3.Name ,  T2.Name FROM news_report AS ...  tianyi          K3   \n",
       "4    SELECT project_details FROM Projects WHERE pro...  tianyi         NaN   \n",
       "..                                                 ...     ...         ...   \n",
       "308  SELECT founded FROM university WHERE affiliati...  tianyi     D1a, K2   \n",
       "309  SELECT organisation_details FROM Organisations...  tianyi    CE2, D1b   \n",
       "310  SELECT max(T1.wins) FROM postseason AS T1 JOIN...  tianyi    BL1, BE5   \n",
       "311  SELECT T1.statement_details ,  T2.document_nam...  tianyi    BF4, CF5   \n",
       "312                                                NaN     NaN         NaN   \n",
       "\n",
       "        zhengn zhengn_code  \n",
       "0    zhengning          K3  \n",
       "1    zhengning          L5  \n",
       "2    zhengning         NaN  \n",
       "3    zhengning          K3  \n",
       "4    zhengning         NaN  \n",
       "..         ...         ...  \n",
       "308  zhengning     K2, D1a  \n",
       "309  zhengning    D1c, CE2  \n",
       "310  zhengning    BL1, BE5  \n",
       "311  zhengning         CF5  \n",
       "312        NaN         NaN  \n",
       "\n",
       "[313 rows x 7 columns]"
      ]
     },
     "execution_count": 511,
     "metadata": {},
     "output_type": "execute_result"
    }
   ],
   "source": [
    "mg4f[['sql', 'nl_query', 'GT_sql', 'tianyi', 'tianyi_code','zhengn', 'zhengn_code']]"
   ]
  },
  {
   "cell_type": "code",
   "execution_count": 525,
   "id": "645454f5",
   "metadata": {},
   "outputs": [],
   "source": [
    "#mg3.columns[['sql', 'nl_query', 'GT_sql', 'tianyi', 'tianyi_code','zhengn', 'zhengn_code']]\n",
    "mg3 = mg3.rename(columns={\"coder\": \"zhengn\", \"username\": \"tianyi\", \"code_tianyi\": \"tianyi_code\", \"code_ning\": \"zhengn_code\"})\n",
    "mg3 = mg3[['sql', 'nl_query', 'GT_sql', 'tianyi', 'tianyi_code','zhengn', 'zhengn_code']]"
   ]
  },
  {
   "cell_type": "code",
   "execution_count": 513,
   "id": "60bfdaf0",
   "metadata": {},
   "outputs": [],
   "source": [
    "mg2 = pd.read_csv('/Users/tianyisun/Desktop/NLQbatches/smbop/batch2/batch2_round2.csv')"
   ]
  },
  {
   "cell_type": "code",
   "execution_count": 526,
   "id": "9cb7b7b4",
   "metadata": {},
   "outputs": [],
   "source": [
    "mg2 = mg2.rename(columns={\"coder\": \"zhengn\", \"username\": \"tianyi\", \"error_classification\": \"tianyi_code\"})\n",
    "mg2 = mg2[['sql', 'nl_query', 'GT_sql', 'tianyi', 'tianyi_code','zhengn', 'zhengn_code']]"
   ]
  },
  {
   "cell_type": "code",
   "execution_count": 527,
   "id": "0a2bf590",
   "metadata": {},
   "outputs": [],
   "source": [
    "#mg1 = mg1.rename(columns={\"coder\": \"zhengn\", \"coder_tianyi\": \"tianyi\", \"code_tianyi\": \"tianyi_code\", \"code_ning\":\"zhengn_code\"})\n",
    "mg1 = mg1[['sql', 'nl_query', 'GT_sql', 'tianyi', 'tianyi_code','zhengn', 'zhengn_code']]"
   ]
  },
  {
   "cell_type": "code",
   "execution_count": 528,
   "id": "b1151b10",
   "metadata": {},
   "outputs": [],
   "source": [
    "md1 = mg4f.append(mg3).append(mg2).append(mg1)"
   ]
  },
  {
   "cell_type": "code",
   "execution_count": 529,
   "id": "88e8bf70",
   "metadata": {},
   "outputs": [
    {
     "data": {
      "text/html": [
       "<div>\n",
       "<style scoped>\n",
       "    .dataframe tbody tr th:only-of-type {\n",
       "        vertical-align: middle;\n",
       "    }\n",
       "\n",
       "    .dataframe tbody tr th {\n",
       "        vertical-align: top;\n",
       "    }\n",
       "\n",
       "    .dataframe thead th {\n",
       "        text-align: right;\n",
       "    }\n",
       "</style>\n",
       "<table border=\"1\" class=\"dataframe\">\n",
       "  <thead>\n",
       "    <tr style=\"text-align: right;\">\n",
       "      <th></th>\n",
       "      <th>Unnamed: 0</th>\n",
       "      <th>sql</th>\n",
       "      <th>nl_query</th>\n",
       "      <th>GT_sql</th>\n",
       "      <th>tianyi</th>\n",
       "      <th>tianyi_code</th>\n",
       "      <th>zhengn</th>\n",
       "      <th>zhengn_code</th>\n",
       "    </tr>\n",
       "  </thead>\n",
       "  <tbody>\n",
       "    <tr>\n",
       "      <th>0</th>\n",
       "      <td>18.0</td>\n",
       "      <td>SELECT station.name , station.location FROM st...</td>\n",
       "      <td>List the names and locations of all stations o...</td>\n",
       "      <td>SELECT name ,  LOCATION FROM station ORDER BY ...</td>\n",
       "      <td>tianyi</td>\n",
       "      <td>K3</td>\n",
       "      <td>zhengning</td>\n",
       "      <td>K3</td>\n",
       "    </tr>\n",
       "    <tr>\n",
       "      <th>1</th>\n",
       "      <td>26.0</td>\n",
       "      <td>SELECT student.major , AVG( student.age ) , MI...</td>\n",
       "      <td>Show the average, minimum, and maximum age for...</td>\n",
       "      <td>SELECT major ,  avg(age) ,  min(age) ,  max(ag...</td>\n",
       "      <td>tianyi</td>\n",
       "      <td>L5</td>\n",
       "      <td>zhengning</td>\n",
       "      <td>L5</td>\n",
       "    </tr>\n",
       "    <tr>\n",
       "      <th>2</th>\n",
       "      <td>33.0</td>\n",
       "      <td>SELECT physician.name FROM physician WHERE phy...</td>\n",
       "      <td>List the name of physicians who never took any...</td>\n",
       "      <td>SELECT name FROM physician EXCEPT SELECT T2.na...</td>\n",
       "      <td>tianyi</td>\n",
       "      <td>NaN</td>\n",
       "      <td>zhengning</td>\n",
       "      <td>NaN</td>\n",
       "    </tr>\n",
       "    <tr>\n",
       "      <th>3</th>\n",
       "      <td>48.0</td>\n",
       "      <td>SELECT journalist.name , event.name FROM news_...</td>\n",
       "      <td>Show the names of journalists and the names of...</td>\n",
       "      <td>SELECT T3.Name ,  T2.Name FROM news_report AS ...</td>\n",
       "      <td>tianyi</td>\n",
       "      <td>K3</td>\n",
       "      <td>zhengning</td>\n",
       "      <td>K3</td>\n",
       "    </tr>\n",
       "    <tr>\n",
       "      <th>4</th>\n",
       "      <td>54.0</td>\n",
       "      <td>SELECT projects.project_details FROM projects ...</td>\n",
       "      <td>What are the details of the project with no ou...</td>\n",
       "      <td>SELECT project_details FROM Projects WHERE pro...</td>\n",
       "      <td>tianyi</td>\n",
       "      <td>NaN</td>\n",
       "      <td>zhengning</td>\n",
       "      <td>NaN</td>\n",
       "    </tr>\n",
       "    <tr>\n",
       "      <th>...</th>\n",
       "      <td>...</td>\n",
       "      <td>...</td>\n",
       "      <td>...</td>\n",
       "      <td>...</td>\n",
       "      <td>...</td>\n",
       "      <td>...</td>\n",
       "      <td>...</td>\n",
       "      <td>...</td>\n",
       "    </tr>\n",
       "    <tr>\n",
       "      <th>671</th>\n",
       "      <td>NaN</td>\n",
       "      <td>SELECT physician.name , physician.position FRO...</td>\n",
       "      <td>Find the name and position of physicians who p...</td>\n",
       "      <td>SELECT DISTINCT T1.name , T1.position FROM phy...</td>\n",
       "      <td>Tianyi</td>\n",
       "      <td>CE2; A1b</td>\n",
       "      <td>zhengning</td>\n",
       "      <td>A1b, CE2</td>\n",
       "    </tr>\n",
       "    <tr>\n",
       "      <th>687</th>\n",
       "      <td>NaN</td>\n",
       "      <td>SELECT dorm.dorm_name FROM dorm WHERE dorm.gen...</td>\n",
       "      <td>Find the name of dorms only for female (F gend...</td>\n",
       "      <td>SELECT dorm_name FROM dorm WHERE gender = 'F'</td>\n",
       "      <td>Tianyi</td>\n",
       "      <td>D1a</td>\n",
       "      <td>zhengning</td>\n",
       "      <td>D1a</td>\n",
       "    </tr>\n",
       "    <tr>\n",
       "      <th>703</th>\n",
       "      <td>NaN</td>\n",
       "      <td>SELECT COUNT( * ) , block.blockcode FROM block...</td>\n",
       "      <td>How many rooms are located for each block code?</td>\n",
       "      <td>SELECT count(*) , T1.blockcode FROM BLOCK AS T...</td>\n",
       "      <td>Tianyi</td>\n",
       "      <td>BE5</td>\n",
       "      <td>zhengning</td>\n",
       "      <td>BE5</td>\n",
       "    </tr>\n",
       "    <tr>\n",
       "      <th>719</th>\n",
       "      <td>NaN</td>\n",
       "      <td>SELECT statements.statement_details , document...</td>\n",
       "      <td>What are the details for statements with the d...</td>\n",
       "      <td>NaN</td>\n",
       "      <td>NaN</td>\n",
       "      <td>NaN</td>\n",
       "      <td>NaN</td>\n",
       "      <td>NaN</td>\n",
       "    </tr>\n",
       "    <tr>\n",
       "      <th>731</th>\n",
       "      <td>NaN</td>\n",
       "      <td>SELECT sportsinfo.stuid FROM sportsinfo WHERE ...</td>\n",
       "      <td>What are the ids for all sporty students who a...</td>\n",
       "      <td>NaN</td>\n",
       "      <td>NaN</td>\n",
       "      <td>NaN</td>\n",
       "      <td>NaN</td>\n",
       "      <td>NaN</td>\n",
       "    </tr>\n",
       "  </tbody>\n",
       "</table>\n",
       "<p>452 rows × 8 columns</p>\n",
       "</div>"
      ],
      "text/plain": [
       "     Unnamed: 0                                                sql  \\\n",
       "0          18.0  SELECT station.name , station.location FROM st...   \n",
       "1          26.0  SELECT student.major , AVG( student.age ) , MI...   \n",
       "2          33.0  SELECT physician.name FROM physician WHERE phy...   \n",
       "3          48.0  SELECT journalist.name , event.name FROM news_...   \n",
       "4          54.0  SELECT projects.project_details FROM projects ...   \n",
       "..          ...                                                ...   \n",
       "671         NaN  SELECT physician.name , physician.position FRO...   \n",
       "687         NaN  SELECT dorm.dorm_name FROM dorm WHERE dorm.gen...   \n",
       "703         NaN  SELECT COUNT( * ) , block.blockcode FROM block...   \n",
       "719         NaN  SELECT statements.statement_details , document...   \n",
       "731         NaN  SELECT sportsinfo.stuid FROM sportsinfo WHERE ...   \n",
       "\n",
       "                                              nl_query  \\\n",
       "0    List the names and locations of all stations o...   \n",
       "1    Show the average, minimum, and maximum age for...   \n",
       "2    List the name of physicians who never took any...   \n",
       "3    Show the names of journalists and the names of...   \n",
       "4    What are the details of the project with no ou...   \n",
       "..                                                 ...   \n",
       "671  Find the name and position of physicians who p...   \n",
       "687  Find the name of dorms only for female (F gend...   \n",
       "703    How many rooms are located for each block code?   \n",
       "719  What are the details for statements with the d...   \n",
       "731  What are the ids for all sporty students who a...   \n",
       "\n",
       "                                                GT_sql  tianyi tianyi_code  \\\n",
       "0    SELECT name ,  LOCATION FROM station ORDER BY ...  tianyi          K3   \n",
       "1    SELECT major ,  avg(age) ,  min(age) ,  max(ag...  tianyi          L5   \n",
       "2    SELECT name FROM physician EXCEPT SELECT T2.na...  tianyi         NaN   \n",
       "3    SELECT T3.Name ,  T2.Name FROM news_report AS ...  tianyi          K3   \n",
       "4    SELECT project_details FROM Projects WHERE pro...  tianyi         NaN   \n",
       "..                                                 ...     ...         ...   \n",
       "671  SELECT DISTINCT T1.name , T1.position FROM phy...  Tianyi    CE2; A1b   \n",
       "687      SELECT dorm_name FROM dorm WHERE gender = 'F'  Tianyi         D1a   \n",
       "703  SELECT count(*) , T1.blockcode FROM BLOCK AS T...  Tianyi         BE5   \n",
       "719                                                NaN     NaN         NaN   \n",
       "731                                                NaN     NaN         NaN   \n",
       "\n",
       "        zhengn zhengn_code  \n",
       "0    zhengning          K3  \n",
       "1    zhengning          L5  \n",
       "2    zhengning         NaN  \n",
       "3    zhengning          K3  \n",
       "4    zhengning         NaN  \n",
       "..         ...         ...  \n",
       "671  zhengning    A1b, CE2  \n",
       "687  zhengning         D1a  \n",
       "703  zhengning         BE5  \n",
       "719        NaN         NaN  \n",
       "731        NaN         NaN  \n",
       "\n",
       "[452 rows x 8 columns]"
      ]
     },
     "execution_count": 529,
     "metadata": {},
     "output_type": "execute_result"
    }
   ],
   "source": [
    "md1"
   ]
  },
  {
   "cell_type": "code",
   "execution_count": 530,
   "id": "39c5ed19",
   "metadata": {},
   "outputs": [],
   "source": [
    "md1.to_csv('/Users/tianyisun/Desktop/NLQbatches/smbop/smbop_round2.csv', index = True)"
   ]
  },
  {
   "cell_type": "markdown",
   "id": "342e1fe7",
   "metadata": {},
   "source": [
    "---"
   ]
  },
  {
   "cell_type": "code",
   "execution_count": 347,
   "id": "8b9d7178",
   "metadata": {},
   "outputs": [
    {
     "data": {
      "text/plain": [
       "849"
      ]
     },
     "execution_count": 347,
     "metadata": {},
     "output_type": "execute_result"
    }
   ],
   "source": [
    "path1b5 = '/Users/tianyisun/Desktop/NLQbatches/tsp/batch5/batch5_round1/annotation_feedback_batch5.csv'\n",
    "\n",
    "pathb5 = '/Users/tianyisun/Desktop/NLQbatches/tsp/batch5/batch5_round2/correct_batch5_final.csv'\n",
    "pathb6 ='/Users/tianyisun/Desktop/NLQbatches/tsp/batch6/batch6_round2/correct_batch6_final.csv'\n",
    "nlq2 = '/Users/tianyisun/Desktop/NLQbatches/nlqueryof3models/tsp-nlquery.csv'\n",
    "\n",
    "b15 = pd.read_csv(path1b5)\n",
    "b5 = pd.read_csv(pathb5)\n",
    "b6 = pd.read_csv(pathb6)\n",
    "nlq2 = pd.read_csv(nlq2)\n",
    "\n",
    "batch5nlq = b15['nl_query'].value_counts().index.values\n",
    "len(batch5nlq)\n"
   ]
  },
  {
   "cell_type": "code",
   "execution_count": 348,
   "id": "86ad41b1",
   "metadata": {},
   "outputs": [
    {
     "data": {
      "text/plain": [
       "851"
      ]
     },
     "execution_count": 348,
     "metadata": {},
     "output_type": "execute_result"
    }
   ],
   "source": [
    "md2 = b5.append(b6)\n",
    "len(md2['nl_query'].value_counts().index.values)\n",
    "len(md2)"
   ]
  },
  {
   "cell_type": "code",
   "execution_count": 331,
   "id": "24e4ff9e",
   "metadata": {
    "collapsed": true
   },
   "outputs": [
    {
     "data": {
      "text/html": [
       "<div>\n",
       "<style scoped>\n",
       "    .dataframe tbody tr th:only-of-type {\n",
       "        vertical-align: middle;\n",
       "    }\n",
       "\n",
       "    .dataframe tbody tr th {\n",
       "        vertical-align: top;\n",
       "    }\n",
       "\n",
       "    .dataframe thead th {\n",
       "        text-align: right;\n",
       "    }\n",
       "</style>\n",
       "<table border=\"1\" class=\"dataframe\">\n",
       "  <thead>\n",
       "    <tr style=\"text-align: right;\">\n",
       "      <th></th>\n",
       "      <th>Unnamed: 0</th>\n",
       "      <th>Unnamed: 0.1</th>\n",
       "      <th>sql_id</th>\n",
       "      <th>nl_query</th>\n",
       "      <th>sql</th>\n",
       "      <th>GT_sql</th>\n",
       "      <th>tianyi_code</th>\n",
       "      <th>zhengn_code</th>\n",
       "    </tr>\n",
       "  </thead>\n",
       "  <tbody>\n",
       "    <tr>\n",
       "      <th>0</th>\n",
       "      <td>0</td>\n",
       "      <td>0</td>\n",
       "      <td>746</td>\n",
       "      <td>Of all players with an overall rating greater ...</td>\n",
       "      <td>SELECT COUNT(*) FROM Player_Attributes WHERE P...</td>\n",
       "      <td>SELECT preferred_foot ,  count(*) FROM Player_...</td>\n",
       "      <td>BL1, F3, F4, AN2, CE2</td>\n",
       "      <td>BL1, F3, BL3, AN2, CE2</td>\n",
       "    </tr>\n",
       "    <tr>\n",
       "      <th>1</th>\n",
       "      <td>1</td>\n",
       "      <td>1</td>\n",
       "      <td>1088</td>\n",
       "      <td>Find the number of rooms for different block c...</td>\n",
       "      <td>SELECT Block.BlockCode, COUNT(*) FROM Block JO...</td>\n",
       "      <td>SELECT count(*) ,  T1.blockcode FROM BLOCK AS ...</td>\n",
       "      <td>BL1, F3, BE5, AN2, CE2</td>\n",
       "      <td>CE2, F3, BL3, AN2</td>\n",
       "    </tr>\n",
       "    <tr>\n",
       "      <th>2</th>\n",
       "      <td>2</td>\n",
       "      <td>2</td>\n",
       "      <td>1317</td>\n",
       "      <td>For the problem with id 10, return the ids and...</td>\n",
       "      <td>SELECT Problem_Log.problem_id, Problems.date_p...</td>\n",
       "      <td>SELECT problem_log_id ,  log_entry_date FROM p...</td>\n",
       "      <td>BL1, E1, BE5, BF4</td>\n",
       "      <td>BL1, E1, CE2</td>\n",
       "    </tr>\n",
       "    <tr>\n",
       "      <th>3</th>\n",
       "      <td>3</td>\n",
       "      <td>3</td>\n",
       "      <td>548</td>\n",
       "      <td>How many lessons have been cancelled?</td>\n",
       "      <td>SELECT COUNT(*) FROM Lessons WHERE Lessons.les...</td>\n",
       "      <td>SELECT count(*) FROM Lessons WHERE lesson_stat...</td>\n",
       "      <td>BL1, E1, BF4, D1a</td>\n",
       "      <td>BL1, E1, D1a</td>\n",
       "    </tr>\n",
       "    <tr>\n",
       "      <th>4</th>\n",
       "      <td>4</td>\n",
       "      <td>4</td>\n",
       "      <td>159</td>\n",
       "      <td>List all people names in the order of their da...</td>\n",
       "      <td>SELECT people.Name FROM people ORDER BY people...</td>\n",
       "      <td>SELECT name FROM people ORDER BY date_of_birth</td>\n",
       "      <td>K2, D1a</td>\n",
       "      <td>K2, D1a</td>\n",
       "    </tr>\n",
       "    <tr>\n",
       "      <th>...</th>\n",
       "      <td>...</td>\n",
       "      <td>...</td>\n",
       "      <td>...</td>\n",
       "      <td>...</td>\n",
       "      <td>...</td>\n",
       "      <td>...</td>\n",
       "      <td>...</td>\n",
       "      <td>...</td>\n",
       "    </tr>\n",
       "    <tr>\n",
       "      <th>708</th>\n",
       "      <td>708</td>\n",
       "      <td>708</td>\n",
       "      <td>2270</td>\n",
       "      <td>Find the name of the employee who got the high...</td>\n",
       "      <td>SELECT employee.Name FROM evaluation JOIN empl...</td>\n",
       "      <td>SELECT t1.name FROM employee AS t1 JOIN evalua...</td>\n",
       "      <td>L4, N3</td>\n",
       "      <td>N3, L4</td>\n",
       "    </tr>\n",
       "    <tr>\n",
       "      <th>709</th>\n",
       "      <td>709</td>\n",
       "      <td>709</td>\n",
       "      <td>2283</td>\n",
       "      <td>What are the countries that are not playing ca...</td>\n",
       "      <td>SELECT DISTINCT Cartoon.Title FROM Cartoon EXC...</td>\n",
       "      <td>SELECT country FROM TV_Channel EXCEPT SELECT T...</td>\n",
       "      <td>CE2, CL1, A2a</td>\n",
       "      <td>CL1, CE2, A2a</td>\n",
       "    </tr>\n",
       "    <tr>\n",
       "      <th>710</th>\n",
       "      <td>710</td>\n",
       "      <td>710</td>\n",
       "      <td>2285</td>\n",
       "      <td>What are the ids of the TV channels that do no...</td>\n",
       "      <td>SELECT TV_Channel.id FROM TV_Channel EXCEPT SE...</td>\n",
       "      <td>SELECT id FROM TV_Channel EXCEPT SELECT channe...</td>\n",
       "      <td>BL1</td>\n",
       "      <td>BL1</td>\n",
       "    </tr>\n",
       "    <tr>\n",
       "      <th>711</th>\n",
       "      <td>711</td>\n",
       "      <td>711</td>\n",
       "      <td>2286</td>\n",
       "      <td>find the package option of the tv channel that...</td>\n",
       "      <td>SELECT TV_Channel.Package_Option FROM TV_Chann...</td>\n",
       "      <td>SELECT package_option FROM TV_Channel WHERE id...</td>\n",
       "      <td>E1, A1d, A1a</td>\n",
       "      <td>E1, A2c</td>\n",
       "    </tr>\n",
       "    <tr>\n",
       "      <th>712</th>\n",
       "      <td>712</td>\n",
       "      <td>712</td>\n",
       "      <td>2287</td>\n",
       "      <td>What are the package options of all tv channel...</td>\n",
       "      <td>SELECT TV_Channel.Package_Option FROM TV_Chann...</td>\n",
       "      <td>SELECT package_option FROM TV_Channel WHERE id...</td>\n",
       "      <td>E1, A1d, A1a</td>\n",
       "      <td>E1, A2c</td>\n",
       "    </tr>\n",
       "  </tbody>\n",
       "</table>\n",
       "<p>851 rows × 8 columns</p>\n",
       "</div>"
      ],
      "text/plain": [
       "     Unnamed: 0  Unnamed: 0.1  sql_id  \\\n",
       "0             0             0     746   \n",
       "1             1             1    1088   \n",
       "2             2             2    1317   \n",
       "3             3             3     548   \n",
       "4             4             4     159   \n",
       "..          ...           ...     ...   \n",
       "708         708           708    2270   \n",
       "709         709           709    2283   \n",
       "710         710           710    2285   \n",
       "711         711           711    2286   \n",
       "712         712           712    2287   \n",
       "\n",
       "                                              nl_query  \\\n",
       "0    Of all players with an overall rating greater ...   \n",
       "1    Find the number of rooms for different block c...   \n",
       "2    For the problem with id 10, return the ids and...   \n",
       "3                How many lessons have been cancelled?   \n",
       "4    List all people names in the order of their da...   \n",
       "..                                                 ...   \n",
       "708  Find the name of the employee who got the high...   \n",
       "709  What are the countries that are not playing ca...   \n",
       "710  What are the ids of the TV channels that do no...   \n",
       "711  find the package option of the tv channel that...   \n",
       "712  What are the package options of all tv channel...   \n",
       "\n",
       "                                                   sql  \\\n",
       "0    SELECT COUNT(*) FROM Player_Attributes WHERE P...   \n",
       "1    SELECT Block.BlockCode, COUNT(*) FROM Block JO...   \n",
       "2    SELECT Problem_Log.problem_id, Problems.date_p...   \n",
       "3    SELECT COUNT(*) FROM Lessons WHERE Lessons.les...   \n",
       "4    SELECT people.Name FROM people ORDER BY people...   \n",
       "..                                                 ...   \n",
       "708  SELECT employee.Name FROM evaluation JOIN empl...   \n",
       "709  SELECT DISTINCT Cartoon.Title FROM Cartoon EXC...   \n",
       "710  SELECT TV_Channel.id FROM TV_Channel EXCEPT SE...   \n",
       "711  SELECT TV_Channel.Package_Option FROM TV_Chann...   \n",
       "712  SELECT TV_Channel.Package_Option FROM TV_Chann...   \n",
       "\n",
       "                                                GT_sql  \\\n",
       "0    SELECT preferred_foot ,  count(*) FROM Player_...   \n",
       "1    SELECT count(*) ,  T1.blockcode FROM BLOCK AS ...   \n",
       "2    SELECT problem_log_id ,  log_entry_date FROM p...   \n",
       "3    SELECT count(*) FROM Lessons WHERE lesson_stat...   \n",
       "4       SELECT name FROM people ORDER BY date_of_birth   \n",
       "..                                                 ...   \n",
       "708  SELECT t1.name FROM employee AS t1 JOIN evalua...   \n",
       "709  SELECT country FROM TV_Channel EXCEPT SELECT T...   \n",
       "710  SELECT id FROM TV_Channel EXCEPT SELECT channe...   \n",
       "711  SELECT package_option FROM TV_Channel WHERE id...   \n",
       "712  SELECT package_option FROM TV_Channel WHERE id...   \n",
       "\n",
       "                tianyi_code             zhengn_code  \n",
       "0     BL1, F3, F4, AN2, CE2  BL1, F3, BL3, AN2, CE2  \n",
       "1    BL1, F3, BE5, AN2, CE2       CE2, F3, BL3, AN2  \n",
       "2         BL1, E1, BE5, BF4            BL1, E1, CE2  \n",
       "3         BL1, E1, BF4, D1a            BL1, E1, D1a  \n",
       "4                   K2, D1a                 K2, D1a  \n",
       "..                      ...                     ...  \n",
       "708                  L4, N3                  N3, L4  \n",
       "709           CE2, CL1, A2a           CL1, CE2, A2a  \n",
       "710                     BL1                     BL1  \n",
       "711            E1, A1d, A1a                 E1, A2c  \n",
       "712            E1, A1d, A1a                 E1, A2c  \n",
       "\n",
       "[851 rows x 8 columns]"
      ]
     },
     "execution_count": 331,
     "metadata": {},
     "output_type": "execute_result"
    }
   ],
   "source": [
    "md2"
   ]
  },
  {
   "cell_type": "code",
   "execution_count": 324,
   "id": "df6bc3ac",
   "metadata": {},
   "outputs": [],
   "source": [
    "for i in md2[md2.nl_query.duplicated() == True].index:\n",
    "    md2 = md2.drop(i)"
   ]
  },
  {
   "cell_type": "code",
   "execution_count": 352,
   "id": "3488af27",
   "metadata": {},
   "outputs": [
    {
     "data": {
      "text/plain": [
       "849"
      ]
     },
     "execution_count": 352,
     "metadata": {},
     "output_type": "execute_result"
    }
   ],
   "source": [
    "len(md2)\n",
    "#md2[md2.nl_query.duplicated() == True]\n",
    "#md2 = md2.drop(0)"
   ]
  },
  {
   "cell_type": "code",
   "execution_count": 353,
   "id": "3c217836",
   "metadata": {},
   "outputs": [],
   "source": [
    "#md2.to_csv('/Users/tianyisun/Desktop/NLQbatches/tsp/tsp_round2.csv', index = True)"
   ]
  },
  {
   "cell_type": "markdown",
   "id": "7e797b8d",
   "metadata": {},
   "source": [
    "---"
   ]
  },
  {
   "cell_type": "code",
   "execution_count": 450,
   "id": "dc3228f2",
   "metadata": {},
   "outputs": [],
   "source": [
    "nlq3 = '/Users/tianyisun/Desktop/NLQbatches/nlqueryof3models/gazp-nlquery.csv'\n",
    "#path17 ='/Users/tianyisun/Desktop/NLQbatches/batch7/batch7_round1/annotation_feedback_batch7.csv'\n",
    "path17 ='/Users/tianyisun/Desktop/NLQbatches/gazp/batch7/batch7_round1/updated_annotation_feedback_batch7.csv'\n",
    "pathb7 = '/Users/tianyisun/Desktop/NLQbatches/gazp/batch7/batch7_round2/correct_batch7_final.csv'\n",
    "\n",
    "b17 = pd.read_csv(path17)\n",
    "b17 = b17.rename(columns={\"error_classification_x\": \"tianyi_code\", \"error_classification_y\": \"zhengn_code\"})\n",
    "b27 = pd.read_csv(pathb7)\n",
    "\n",
    "nlq3 = pd.read_csv(nlq3)\n"
   ]
  },
  {
   "cell_type": "code",
   "execution_count": 451,
   "id": "1bff3570",
   "metadata": {},
   "outputs": [],
   "source": [
    "btc7 = pd.merge(b17[b17.username == 'tianyi'][[ 'sql', 'nl_query', 'GT_sql','username', 'error_classification']],\n",
    "                b17[b17.username == 'zhengning'][[ 'sql', 'nl_query', 'GT_sql','username', 'error_classification']],\n",
    "                on = ['sql', 'nl_query', 'GT_sql'],\n",
    "                how = 'outer')"
   ]
  },
  {
   "cell_type": "code",
   "execution_count": 452,
   "id": "640d686d",
   "metadata": {},
   "outputs": [],
   "source": [
    "btc7 = btc7.rename(columns={\"username_y\": \"zhengning\", \"username_x\": \"tianyi\", \"error_classification_x\": \"tianyi_code\", \"error_classification_y\": \"zhengn_code\"})\n"
   ]
  },
  {
   "cell_type": "code",
   "execution_count": 454,
   "id": "ff2e915e",
   "metadata": {},
   "outputs": [
    {
     "data": {
      "text/plain": [
       "431"
      ]
     },
     "execution_count": 454,
     "metadata": {},
     "output_type": "execute_result"
    }
   ],
   "source": [
    "len(mg7['nl_query'].value_counts().index.values)"
   ]
  },
  {
   "cell_type": "code",
   "execution_count": 456,
   "id": "d04e6c41",
   "metadata": {},
   "outputs": [],
   "source": [
    "for i in mg7[mg7.nl_query.duplicated() == True].index:\n",
    "    mg7 = mg7.drop(i)"
   ]
  },
  {
   "cell_type": "code",
   "execution_count": 457,
   "id": "bffeb355",
   "metadata": {},
   "outputs": [],
   "source": [
    "mg7 = btc7.loc[~btc7['nl_query'].isin(b27['nl_query'])].append(b27)"
   ]
  },
  {
   "cell_type": "code",
   "execution_count": 458,
   "id": "a4e4311c",
   "metadata": {},
   "outputs": [
    {
     "data": {
      "text/plain": [
       "432"
      ]
     },
     "execution_count": 458,
     "metadata": {},
     "output_type": "execute_result"
    }
   ],
   "source": [
    "len(mg7)"
   ]
  },
  {
   "cell_type": "code",
   "execution_count": 459,
   "id": "41feedec",
   "metadata": {},
   "outputs": [],
   "source": [
    "mg7.to_csv('/Users/tianyisun/Desktop/NLQbatches/gazp/batch7/batch7_round2.csv', index = True)"
   ]
  },
  {
   "cell_type": "code",
   "execution_count": null,
   "id": "ad576b78",
   "metadata": {},
   "outputs": [],
   "source": []
  },
  {
   "cell_type": "code",
   "execution_count": null,
   "id": "1730a365",
   "metadata": {},
   "outputs": [],
   "source": []
  },
  {
   "cell_type": "code",
   "execution_count": null,
   "id": "2e17dd98",
   "metadata": {},
   "outputs": [],
   "source": []
  },
  {
   "cell_type": "code",
   "execution_count": null,
   "id": "15d471b1",
   "metadata": {},
   "outputs": [],
   "source": []
  },
  {
   "cell_type": "code",
   "execution_count": 192,
   "id": "d326c62c",
   "metadata": {},
   "outputs": [],
   "source": [
    "dfb5 = pd.DataFrame(batch5nlq)\n",
    "dfb6 = pd.DataFrame(batch6nlq)\n",
    "dfb7 = pd.DataFrame(batch7nlq)"
   ]
  },
  {
   "cell_type": "code",
   "execution_count": 250,
   "id": "e0b7afbe",
   "metadata": {},
   "outputs": [
    {
     "data": {
      "text/plain": [
       "398"
      ]
     },
     "execution_count": 250,
     "metadata": {},
     "output_type": "execute_result"
    }
   ],
   "source": [
    "\n",
    "len(dfb7)"
   ]
  },
  {
   "cell_type": "code",
   "execution_count": 247,
   "id": "4f6c61d0",
   "metadata": {},
   "outputs": [
    {
     "data": {
      "text/plain": [
       "849"
      ]
     },
     "execution_count": 247,
     "metadata": {},
     "output_type": "execute_result"
    }
   ],
   "source": [
    "nlq2[nlq2['0'].duplicated() == True]\n",
    "#nlq2 = nlq2.drop(351)\n",
    "#nlq2.to_csv(r'/Users/tianyisun/Desktop/NLQbatches/nlqueryof3models/tsp-nlquery.csv', index=None)\n",
    "len(nlq2)"
   ]
  },
  {
   "cell_type": "code",
   "execution_count": 239,
   "id": "bc6ff51f",
   "metadata": {},
   "outputs": [],
   "source": [
    "f = pd.merge(nlq2['0'], dfb5[0], left_on = '0',  right_on = 0, how = 'inner')"
   ]
  },
  {
   "cell_type": "code",
   "execution_count": 240,
   "id": "e9bda8d2",
   "metadata": {},
   "outputs": [
    {
     "data": {
      "text/plain": [
       "850"
      ]
     },
     "execution_count": 240,
     "metadata": {},
     "output_type": "execute_result"
    }
   ],
   "source": [
    "len(f)"
   ]
  },
  {
   "cell_type": "code",
   "execution_count": 248,
   "id": "627b74a1",
   "metadata": {},
   "outputs": [
    {
     "data": {
      "text/plain": [
       "849"
      ]
     },
     "execution_count": 248,
     "metadata": {},
     "output_type": "execute_result"
    }
   ],
   "source": [
    "d = pd.merge(dfb6,dfb5, left_index = True, right_index = True, how= \"outer\")\n",
    "len(d)"
   ]
  },
  {
   "cell_type": "code",
   "execution_count": 249,
   "id": "822b3f9c",
   "metadata": {},
   "outputs": [
    {
     "data": {
      "text/html": [
       "<div>\n",
       "<style scoped>\n",
       "    .dataframe tbody tr th:only-of-type {\n",
       "        vertical-align: middle;\n",
       "    }\n",
       "\n",
       "    .dataframe tbody tr th {\n",
       "        vertical-align: top;\n",
       "    }\n",
       "\n",
       "    .dataframe thead th {\n",
       "        text-align: right;\n",
       "    }\n",
       "</style>\n",
       "<table border=\"1\" class=\"dataframe\">\n",
       "  <thead>\n",
       "    <tr style=\"text-align: right;\">\n",
       "      <th></th>\n",
       "      <th>0_x</th>\n",
       "      <th>0_y</th>\n",
       "    </tr>\n",
       "  </thead>\n",
       "  <tbody>\n",
       "    <tr>\n",
       "      <th>0</th>\n",
       "      <td>Return the maximum support rate, minimum consi...</td>\n",
       "      <td>What are the last names for all scholarship st...</td>\n",
       "    </tr>\n",
       "    <tr>\n",
       "      <th>1</th>\n",
       "      <td>How many different students are involved in sp...</td>\n",
       "      <td>How many friends does Dan have?</td>\n",
       "    </tr>\n",
       "    <tr>\n",
       "      <th>2</th>\n",
       "      <td>What are all role codes?</td>\n",
       "      <td>How many cities are there that have more than ...</td>\n",
       "    </tr>\n",
       "    <tr>\n",
       "      <th>3</th>\n",
       "      <td>What are the names of the songs that are moder...</td>\n",
       "      <td>Find the number of concerts happened in the st...</td>\n",
       "    </tr>\n",
       "    <tr>\n",
       "      <th>4</th>\n",
       "      <td>What is the name of the shipping agent of the ...</td>\n",
       "      <td>How many models does each car maker produce? L...</td>\n",
       "    </tr>\n",
       "    <tr>\n",
       "      <th>...</th>\n",
       "      <td>...</td>\n",
       "      <td>...</td>\n",
       "    </tr>\n",
       "    <tr>\n",
       "      <th>844</th>\n",
       "      <td>NaN</td>\n",
       "      <td>List the names of all genres in alphabetical o...</td>\n",
       "    </tr>\n",
       "    <tr>\n",
       "      <th>845</th>\n",
       "      <td>NaN</td>\n",
       "      <td>Find the number of distinct amenities.</td>\n",
       "    </tr>\n",
       "    <tr>\n",
       "      <th>846</th>\n",
       "      <td>NaN</td>\n",
       "      <td>Return the low and high estimates for all film...</td>\n",
       "    </tr>\n",
       "    <tr>\n",
       "      <th>847</th>\n",
       "      <td>NaN</td>\n",
       "      <td>What are the names for the 3 branches that hav...</td>\n",
       "    </tr>\n",
       "    <tr>\n",
       "      <th>848</th>\n",
       "      <td>NaN</td>\n",
       "      <td>Find the names of the students who are in the ...</td>\n",
       "    </tr>\n",
       "  </tbody>\n",
       "</table>\n",
       "<p>849 rows × 2 columns</p>\n",
       "</div>"
      ],
      "text/plain": [
       "                                                   0_x  \\\n",
       "0    Return the maximum support rate, minimum consi...   \n",
       "1    How many different students are involved in sp...   \n",
       "2                             What are all role codes?   \n",
       "3    What are the names of the songs that are moder...   \n",
       "4    What is the name of the shipping agent of the ...   \n",
       "..                                                 ...   \n",
       "844                                                NaN   \n",
       "845                                                NaN   \n",
       "846                                                NaN   \n",
       "847                                                NaN   \n",
       "848                                                NaN   \n",
       "\n",
       "                                                   0_y  \n",
       "0    What are the last names for all scholarship st...  \n",
       "1                      How many friends does Dan have?  \n",
       "2    How many cities are there that have more than ...  \n",
       "3    Find the number of concerts happened in the st...  \n",
       "4    How many models does each car maker produce? L...  \n",
       "..                                                 ...  \n",
       "844  List the names of all genres in alphabetical o...  \n",
       "845             Find the number of distinct amenities.  \n",
       "846  Return the low and high estimates for all film...  \n",
       "847  What are the names for the 3 branches that hav...  \n",
       "848  Find the names of the students who are in the ...  \n",
       "\n",
       "[849 rows x 2 columns]"
      ]
     },
     "execution_count": 249,
     "metadata": {},
     "output_type": "execute_result"
    }
   ],
   "source": [
    "d"
   ]
  },
  {
   "cell_type": "code",
   "execution_count": 174,
   "id": "7e6b68d7",
   "metadata": {},
   "outputs": [
    {
     "data": {
      "text/plain": [
       "1064"
      ]
     },
     "execution_count": 174,
     "metadata": {},
     "output_type": "execute_result"
    }
   ],
   "source": [
    "len(nlq3)"
   ]
  },
  {
   "cell_type": "code",
   "execution_count": 31,
   "id": "d1420cde",
   "metadata": {},
   "outputs": [],
   "source": [
    "# for model1 complete sqls\n",
    "nlq2 = '/Users/tianyisun/Desktop/NLQbatches/nlqueryof3models/tsp-nlquery.csv'\n",
    "pathb1 = '/Users/tianyisun/Desktop/NLQbatches/batch1/batch1_round2/revise1_ning_tian.csv'\n",
    "pathb2 = '/Users/tianyisun/Desktop/NLQbatches/batch2/batch2_round2/revise2_ning_tian.csv'\n",
    "pathb3 = '/Users/tianyisun/Desktop/NLQbatches/batch3/batch3_round2/revise3_ning_tian.csv'\n",
    "pathb4 = '/Users/tianyisun/Desktop/NLQbatches/batch4/batch4_round2/correct_batch4.csv'\n",
    "\n",
    "b1 = pd.read_csv(pathb1)\n",
    "nlq1 = pd.read_csv('/Users/tianyisun/Desktop/NLQbatches/nlqueryof3models/smbop-nlquery.csv')"
   ]
  },
  {
   "cell_type": "code",
   "execution_count": 42,
   "id": "22266cd3",
   "metadata": {},
   "outputs": [],
   "source": [
    "p = '/Users/tianyisun/Desktop/NLQbatches/batch1/batch1_round1/First-round error type annotation.csv'\n",
    "p = pd.read_csv(p)\n",
    "batch1nlq = p['nl_query'].value_counts().index.values[:-1]"
   ]
  },
  {
   "cell_type": "code",
   "execution_count": 43,
   "id": "eeb4ec3f",
   "metadata": {},
   "outputs": [
    {
     "data": {
      "text/plain": [
       "46"
      ]
     },
     "execution_count": 43,
     "metadata": {},
     "output_type": "execute_result"
    }
   ],
   "source": [
    "len(batch1nlq)"
   ]
  },
  {
   "cell_type": "markdown",
   "id": "00418dc1",
   "metadata": {},
   "source": [
    "---"
   ]
  },
  {
   "cell_type": "code",
   "execution_count": 44,
   "id": "c1aa85a3",
   "metadata": {},
   "outputs": [
    {
     "data": {
      "text/plain": [
       "46"
      ]
     },
     "execution_count": 44,
     "metadata": {},
     "output_type": "execute_result"
    }
   ],
   "source": [
    "p2 = '/Users/tianyisun/Desktop/NLQbatches/batch2/batch2_round1/annotation_feedback_batch2.csv'\n",
    "p2 = pd.read_csv(p2)\n",
    "batch2nlq = p2['nl_query'].value_counts().index.values\n",
    "#p2['nl_query'].value_counts()\n",
    "len(batch2nlq)"
   ]
  },
  {
   "cell_type": "markdown",
   "id": "f3e989f7",
   "metadata": {},
   "source": [
    "---"
   ]
  },
  {
   "cell_type": "code",
   "execution_count": 46,
   "id": "00966a63",
   "metadata": {},
   "outputs": [
    {
     "data": {
      "text/plain": [
       "46"
      ]
     },
     "execution_count": 46,
     "metadata": {},
     "output_type": "execute_result"
    }
   ],
   "source": [
    "p3 = '/Users/tianyisun/Desktop/NLQbatches/batch3/batch3_round1/annotation_feedback_batch3.csv'\n",
    "p3 = pd.read_csv(p3)\n",
    "batch3nlq = p3['nl_query'].value_counts().index.values\n",
    "#p2['nl_query'].value_counts()\n",
    "len(batch3nlq)"
   ]
  },
  {
   "cell_type": "markdown",
   "id": "b81d9de8",
   "metadata": {},
   "source": [
    "---"
   ]
  },
  {
   "cell_type": "code",
   "execution_count": 47,
   "id": "3dd00867",
   "metadata": {},
   "outputs": [
    {
     "data": {
      "text/plain": [
       "313"
      ]
     },
     "execution_count": 47,
     "metadata": {},
     "output_type": "execute_result"
    }
   ],
   "source": [
    "p4 = '/Users/tianyisun/Desktop/NLQbatches/batch4/batch4_round1/annotation_feedback_batch4.csv'\n",
    "p4 = pd.read_csv(p4)\n",
    "batch4nlq = p4['nl_query'].value_counts().index.values\n",
    "#p2['nl_query'].value_counts()\n",
    "len(batch4nlq)"
   ]
  },
  {
   "cell_type": "code",
   "execution_count": 124,
   "id": "34c767c1",
   "metadata": {},
   "outputs": [],
   "source": [
    "l"
   ]
  },
  {
   "cell_type": "code",
   "execution_count": 127,
   "id": "cebf011d",
   "metadata": {},
   "outputs": [
    {
     "data": {
      "text/plain": [
       "451"
      ]
     },
     "execution_count": 127,
     "metadata": {},
     "output_type": "execute_result"
    }
   ],
   "source": [
    "ls = batch1nlq.tolist()+batch2nlq.tolist()+batch3nlq.tolist()+batch4nlq.tolist()\n",
    "df = pd.DataFrame(index = ls)\n",
    "#df = pd.merge(df, ty[['nl_query','error_classification']],left_index=True, right_on=\"nl_query\", how = \"left\")\n",
    "len(df)\n",
    "df"
   ]
  },
  {
   "cell_type": "code",
   "execution_count": 139,
   "id": "8ef19460",
   "metadata": {},
   "outputs": [],
   "source": [
    "#df.to_csv(\"m1_nlqs.csv\", index = True)"
   ]
  },
  {
   "cell_type": "code",
   "execution_count": 138,
   "id": "9ddac329",
   "metadata": {},
   "outputs": [
    {
     "data": {
      "text/html": [
       "<div>\n",
       "<style scoped>\n",
       "    .dataframe tbody tr th:only-of-type {\n",
       "        vertical-align: middle;\n",
       "    }\n",
       "\n",
       "    .dataframe tbody tr th {\n",
       "        vertical-align: top;\n",
       "    }\n",
       "\n",
       "    .dataframe thead th {\n",
       "        text-align: right;\n",
       "    }\n",
       "</style>\n",
       "<table border=\"1\" class=\"dataframe\">\n",
       "  <thead>\n",
       "    <tr style=\"text-align: right;\">\n",
       "      <th></th>\n",
       "      <th>0</th>\n",
       "    </tr>\n",
       "  </thead>\n",
       "  <tbody>\n",
       "    <tr>\n",
       "      <th>343</th>\n",
       "      <td>What procedures cost less than 5000 and have J...</td>\n",
       "    </tr>\n",
       "    <tr>\n",
       "      <th>141</th>\n",
       "      <td>HOw many engineers are older than 30?</td>\n",
       "    </tr>\n",
       "    <tr>\n",
       "      <th>150</th>\n",
       "      <td>What are the first names for all faculty profe...</td>\n",
       "    </tr>\n",
       "    <tr>\n",
       "      <th>337</th>\n",
       "      <td>Compute the mean price of procedures physician...</td>\n",
       "    </tr>\n",
       "    <tr>\n",
       "      <th>42</th>\n",
       "      <td>How many games are played for all students?</td>\n",
       "    </tr>\n",
       "    <tr>\n",
       "      <th>...</th>\n",
       "      <td>...</td>\n",
       "    </tr>\n",
       "    <tr>\n",
       "      <th>247</th>\n",
       "      <td>Who are the top 3 players in terms of overall ...</td>\n",
       "    </tr>\n",
       "    <tr>\n",
       "      <th>237</th>\n",
       "      <td>Find the average millisecond length of Latin a...</td>\n",
       "    </tr>\n",
       "    <tr>\n",
       "      <th>281</th>\n",
       "      <td>What are the countries that have never partici...</td>\n",
       "    </tr>\n",
       "    <tr>\n",
       "      <th>50</th>\n",
       "      <td>How many employees live in Georgia?</td>\n",
       "    </tr>\n",
       "    <tr>\n",
       "      <th>388</th>\n",
       "      <td>What are the names of courses that give either...</td>\n",
       "    </tr>\n",
       "  </tbody>\n",
       "</table>\n",
       "<p>451 rows × 1 columns</p>\n",
       "</div>"
      ],
      "text/plain": [
       "                                                     0\n",
       "343  What procedures cost less than 5000 and have J...\n",
       "141              HOw many engineers are older than 30?\n",
       "150  What are the first names for all faculty profe...\n",
       "337  Compute the mean price of procedures physician...\n",
       "42         How many games are played for all students?\n",
       "..                                                 ...\n",
       "247  Who are the top 3 players in terms of overall ...\n",
       "237  Find the average millisecond length of Latin a...\n",
       "281  What are the countries that have never partici...\n",
       "50                 How many employees live in Georgia?\n",
       "388  What are the names of courses that give either...\n",
       "\n",
       "[451 rows x 1 columns]"
      ]
     },
     "execution_count": 138,
     "metadata": {},
     "output_type": "execute_result"
    }
   ],
   "source": [
    "d = pd.merge(df,nlq1,left_index = True, right_on = '0', how= \"outer\")\n",
    "d"
   ]
  },
  {
   "cell_type": "code",
   "execution_count": 48,
   "id": "6a915bf7",
   "metadata": {},
   "outputs": [
    {
     "data": {
      "text/plain": [
       "451"
      ]
     },
     "execution_count": 48,
     "metadata": {},
     "output_type": "execute_result"
    }
   ],
   "source": [
    "313+(46*3)"
   ]
  },
  {
   "cell_type": "code",
   "execution_count": 41,
   "id": "9afeab9b",
   "metadata": {},
   "outputs": [
    {
     "ename": "AttributeError",
     "evalue": "'numpy.ndarray' object has no attribute 'nl_query'",
     "output_type": "error",
     "traceback": [
      "\u001b[0;31m---------------------------------------------------------------------------\u001b[0m",
      "\u001b[0;31mAttributeError\u001b[0m                            Traceback (most recent call last)",
      "\u001b[0;32m/var/folders/gh/3pd23sd51hn2p7774mv2zt4r0000gn/T/ipykernel_11302/2857694324.py\u001b[0m in \u001b[0;36m<module>\u001b[0;34m\u001b[0m\n\u001b[0;32m----> 1\u001b[0;31m \u001b[0mlen\u001b[0m\u001b[0;34m(\u001b[0m\u001b[0mbatch2nlq\u001b[0m\u001b[0;34m[\u001b[0m\u001b[0mbatch2nlq\u001b[0m\u001b[0;34m.\u001b[0m\u001b[0mnl_query\u001b[0m\u001b[0;34m.\u001b[0m\u001b[0mduplicated\u001b[0m\u001b[0;34m(\u001b[0m\u001b[0;34m)\u001b[0m \u001b[0;34m==\u001b[0m \u001b[0;32mTrue\u001b[0m\u001b[0;34m]\u001b[0m\u001b[0;34m)\u001b[0m\u001b[0;34m\u001b[0m\u001b[0;34m\u001b[0m\u001b[0m\n\u001b[0m\u001b[1;32m      2\u001b[0m \u001b[0mlen\u001b[0m\u001b[0;34m(\u001b[0m\u001b[0mbatch2nlq\u001b[0m\u001b[0;34m)\u001b[0m\u001b[0;34m\u001b[0m\u001b[0;34m\u001b[0m\u001b[0m\n",
      "\u001b[0;31mAttributeError\u001b[0m: 'numpy.ndarray' object has no attribute 'nl_query'"
     ]
    }
   ],
   "source": [
    "len(batch2nlq[batch2nlq.nl_query.duplicated() == True])\n",
    "len(batch2nlq)"
   ]
  },
  {
   "cell_type": "code",
   "execution_count": null,
   "id": "036a975a",
   "metadata": {},
   "outputs": [],
   "source": []
  },
  {
   "cell_type": "code",
   "execution_count": null,
   "id": "e1180f04",
   "metadata": {},
   "outputs": [],
   "source": []
  },
  {
   "cell_type": "code",
   "execution_count": null,
   "id": "1f995ef7",
   "metadata": {},
   "outputs": [],
   "source": [
    "col = 'ID'\n",
    "cols_to_replace = ['Latitude', 'Longitude']\n",
    "df3.loc[df3[col].isin(df1[col]), cols_to_replace] = df1.loc[df1[col].isin(df3[col]),cols_to_replace].values"
   ]
  },
  {
   "cell_type": "code",
   "execution_count": null,
   "id": "4b3f32ea",
   "metadata": {},
   "outputs": [],
   "source": []
  },
  {
   "cell_type": "code",
   "execution_count": null,
   "id": "047158eb",
   "metadata": {},
   "outputs": [],
   "source": []
  },
  {
   "cell_type": "code",
   "execution_count": null,
   "id": "a10c06ed",
   "metadata": {},
   "outputs": [],
   "source": []
  }
 ],
 "metadata": {
  "kernelspec": {
   "display_name": "Python 3 (ipykernel)",
   "language": "python",
   "name": "python3"
  },
  "language_info": {
   "codemirror_mode": {
    "name": "ipython",
    "version": 3
   },
   "file_extension": ".py",
   "mimetype": "text/x-python",
   "name": "python",
   "nbconvert_exporter": "python",
   "pygments_lexer": "ipython3",
   "version": "3.9.7"
  }
 },
 "nbformat": 4,
 "nbformat_minor": 5
}
