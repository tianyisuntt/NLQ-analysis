{
 "cells": [
  {
   "cell_type": "code",
   "execution_count": 3,
   "id": "3fcbf461",
   "metadata": {},
   "outputs": [],
   "source": [
    "import numpy as np \n",
    "import pandas as pd \n",
    "from pandas import DataFrame\n",
    "import os\n",
    "#for dirname, _, filenames in os.walk('/Users/tianyisun/Desktop'):\n",
    "#    for filename in filenames:\n",
    "#        print(os.path.join(dirname, filename))"
   ]
  },
  {
   "cell_type": "code",
   "execution_count": 5,
   "id": "87d373fd",
   "metadata": {},
   "outputs": [],
   "source": [
    "df = pd.read_csv(\"/Users/tianyisun/Desktop/NLQbatches/batch7/batch7_round1/annotation_feedback_batch7.csv\")\n",
    "df['error_classification'] = df['error_classification'].astype(str)\n",
    "df2 = df.copy()\n",
    "\n",
    "for index, row in df.iterrows():\n",
    "    if index > 0:\n",
    "        last_row = df2.loc[index-1]\n",
    "        last_row_record = set(last_row['error_classification'].replace(\" \", \"\").split(','))\n",
    "        cur_row_record = set(row['error_classification'].replace(\" \", \"\").split(','))\n",
    "        restored_element = last_row_record.symmetric_difference(cur_row_record)\n",
    "        restored_element = \", \".join(restored_element)\n",
    "        df.loc[index, 'error_classification'] = restored_element\n",
    "\n",
    "\n",
    "#df.to_csv('/Users/tianyisun/Desktop/NLQbatches/batch7/batch7_round1/updated_annotation_feedback_batch7.csv', index=False)"
   ]
  }
 ],
 "metadata": {
  "kernelspec": {
   "display_name": "Python 3 (ipykernel)",
   "language": "python",
   "name": "python3"
  },
  "language_info": {
   "codemirror_mode": {
    "name": "ipython",
    "version": 3
   },
   "file_extension": ".py",
   "mimetype": "text/x-python",
   "name": "python",
   "nbconvert_exporter": "python",
   "pygments_lexer": "ipython3",
   "version": "3.9.7"
  }
 },
 "nbformat": 4,
 "nbformat_minor": 5
}
