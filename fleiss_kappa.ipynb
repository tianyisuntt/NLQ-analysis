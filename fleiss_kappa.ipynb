{
 "cells": [
  {
   "cell_type": "code",
   "execution_count": 1,
   "id": "701fe332",
   "metadata": {
    "execution": {
     "iopub.execute_input": "2021-09-07T22:42:07.976077Z",
     "iopub.status.busy": "2021-09-07T22:42:07.971463Z",
     "iopub.status.idle": "2021-09-07T22:42:08.085621Z",
     "shell.execute_reply": "2021-09-07T22:42:08.084947Z",
     "shell.execute_reply.started": "2021-09-07T22:40:28.268617Z"
    },
    "papermill": {
     "duration": 0.128077,
     "end_time": "2021-09-07T22:42:08.085788",
     "exception": false,
     "start_time": "2021-09-07T22:42:07.957711",
     "status": "completed"
    },
    "tags": []
   },
   "outputs": [],
   "source": [
    "import numpy as np \n",
    "import pandas as pd \n",
    "from pandas import DataFrame\n",
    "import math \n",
    "\n",
    "'''\n",
    "make the matrix\n",
    "'''\n",
    "def matrix(ann_matrix):\n",
    "    annotask = ann_matrix.values.tolist()\n",
    "    #column_name = list(ann[2].unique())\n",
    "    matrix = DataFrame(index =ann_matrix[ann_matrix.columns[1]].unique())\n",
    "    matrix_id = DataFrame(index =ann_matrix[ann_matrix.columns[1]].unique())\n",
    "    column_name=[]\n",
    "    for elelist in annotask:\n",
    "        for i in range(0,len(matrix.index)):\n",
    "            if elelist[1] == matrix.index[i]:\n",
    "                if elelist[2] not in column_name:\n",
    "                    column_name.append(elelist[2])  # list of column_name + that name \n",
    "                    matrix[elelist[2]] =0 # dataframe add a column of zero with the name of elelist[2]\n",
    "                colname_index = column_name.index(elelist[2]) # get the index of the name in the list of column name \n",
    "                matrix.iloc[i,colname_index] +=1 #+1 at that cell \n",
    "    matrix.index = range(0,len(matrix))\n",
    "    return matrix, matrix_id  # each value of matrix <=4 \n",
    "\n",
    "def total(matrix):\n",
    "    total = 0\n",
    "    for i in range(0,len(matrix)): \n",
    "        total = total+ sum(matrix.iloc[i])\n",
    "    return total\n",
    "\n",
    "\n",
    "'''\n",
    "## compute p_j\n",
    "# The value p_j is the proportion of all assignments that were made to the jth category(column).\n",
    "# sum of p_j = 1.0\n",
    "'''\n",
    "def compute_p_j(orimatrix):\n",
    "    p_j=[]\n",
    "    sum_each_oricol = orimatrix.sum(axis=0)\n",
    "    for i in sum_each_oricol:\n",
    "        #p_j.append(i/(len(orimatrix.index)*4))                  #annotator = 4\n",
    "        p_j.append(i/(len(orimatrix.index)*2))              #   annotator = 2\n",
    "    suquare_p_j = [i*i for i in p_j]\n",
    "    aveP_e = sum(suquare_p_j)\n",
    "    return aveP_e\n",
    "\n",
    "'''\n",
    "## Compute P_i \n",
    "# the extent to which raters agree for the i-th subject.\n",
    "# -- how many rater-rater pairs are in agreement,\n",
    "# relative to the num of all possible rater-rater paires.\n",
    "'''\n",
    "def compute_P_i(orimatrix):\n",
    "    #n = 4                                                      #annotator = 4\n",
    "    n = 2                                                  #    annotator = 2\n",
    "    P_i = []\n",
    "    for i in range(0,len(orimatrix)):\n",
    "        row_list =[]\n",
    "        for j in range(0,len(orimatrix.columns)):\n",
    "            row_list.append(orimatrix.iloc[i][j]*orimatrix.iloc[i][j])\n",
    "        row_sum = sum(row_list)    \n",
    "        P_i.append((row_sum-n)/(n*(n-1)))\n",
    " \n",
    "    aveP_i = sum(P_i)/len(P_i)\n",
    "    return aveP_i\n",
    "\n",
    "'''\n",
    "## Compute Kraemer's kappa\n",
    "'''\n",
    "def Kraemers_kappa(orimatrix,aveP_e,aveP_i):\n",
    "    N = len(orimatrix)\n",
    "    #n = 4                                                     #annotator = 4\n",
    "    n = 2                                                 #    annotator = 2\n",
    "    k_0 = ((aveP_i-aveP_e)/(1-aveP_e))+((1-aveP_i)/(N*n*(1-aveP_e)))\n",
    "    return k_0\n",
    "\n",
    "'''\n",
    "## Compute Fleiss' kappa\n",
    "'''\n",
    "def Fleiss_kappa(orimatrix,aveP_e,aveP_i):\n",
    "    #n = 4                                                     #annotator = 4\n",
    "    n = 2                                                  #   annotator = 2\n",
    "    k_1 = (aveP_i-aveP_e)/(1-aveP_e)\n",
    "    return k_1\n",
    "\n",
    "'''\n",
    "## Compute Krippendroffis alpha\n",
    "'''\n",
    "def Krippendroffis_alpha(orimatrix):\n",
    "    return None\n",
    "\n",
    "'''\n",
    "## split the matrix as dfs \n",
    "# where each id is a df, \n",
    "# where each error type is a \n",
    "# where each column is two, select(y) or non_select(n)\n",
    "'''\n",
    "def split_matrix(matrix):\n",
    "    F_kappa =[]\n",
    "    t_matrix = matrix.T\n",
    "    for i in range(0,len(matrix)):\n",
    "        i = t_matrix.columns[i]\n",
    "        df = pd.DataFrame(columns = ['selected', 'non_selected'], index =list(matrix.columns))\n",
    "        df['selected'] = 0\n",
    "        df['selected'] = t_matrix.iloc[:,i:i+1]\n",
    "        #df['non_selected'] = 4 - df['selected']\n",
    "        df['non_selected'] = 2 - df['selected']\n",
    "        #print(df)\n",
    "        aveP_e = compute_p_j(df)\n",
    "        aveP_i = compute_P_i(df)\n",
    "        F_k = Fleiss_kappa(df,aveP_e,aveP_i)\n",
    "        F_kappa.append(F_k)\n",
    "    return F_kappa"
   ]
  },
  {
   "cell_type": "markdown",
   "id": "39652b7d",
   "metadata": {
    "papermill": {
     "duration": 0.008017,
     "end_time": "2021-09-07T22:42:08.102391",
     "exception": false,
     "start_time": "2021-09-07T22:42:08.094374",
     "status": "completed"
    },
    "tags": []
   },
   "source": [
    "---"
   ]
  },
  {
   "cell_type": "code",
   "execution_count": null,
   "id": "a93230e2",
   "metadata": {
    "execution": {
     "iopub.execute_input": "2021-09-07T22:42:08.123582Z",
     "iopub.status.busy": "2021-09-07T22:42:08.122933Z",
     "iopub.status.idle": "2021-09-07T22:42:08.175703Z",
     "shell.execute_reply": "2021-09-07T22:42:08.175193Z",
     "shell.execute_reply.started": "2021-09-07T22:40:13.986346Z"
    },
    "papermill": {
     "duration": 0.065324,
     "end_time": "2021-09-07T22:42:08.175842",
     "exception": false,
     "start_time": "2021-09-07T22:42:08.110518",
     "status": "completed"
    },
    "tags": []
   },
   "outputs": [],
   "source": [
    "import os\n",
    "for dirname, _, filenames in os.walk('/Users/tianyisun/Desktop/NLQbatches/batch5'):\n",
    "    for filename in filenames:\n",
    "        print(os.path.join(dirname, filename))"
   ]
  },
  {
   "cell_type": "code",
   "execution_count": 2,
   "id": "396e9bef",
   "metadata": {
    "execution": {
     "iopub.execute_input": "2021-09-07T22:42:08.197729Z",
     "iopub.status.busy": "2021-09-07T22:42:08.196750Z",
     "iopub.status.idle": "2021-09-07T22:42:08.199745Z",
     "shell.execute_reply": "2021-09-07T22:42:08.199138Z"
    },
    "papermill": {
     "duration": 0.015304,
     "end_time": "2021-09-07T22:42:08.199878",
     "exception": false,
     "start_time": "2021-09-07T22:42:08.184574",
     "status": "completed"
    },
    "tags": []
   },
   "outputs": [
    {
     "name": "stdout",
     "output_type": "stream",
     "text": [
      "length:  137\n"
     ]
    },
    {
     "data": {
      "text/html": [
       "<div>\n",
       "<style scoped>\n",
       "    .dataframe tbody tr th:only-of-type {\n",
       "        vertical-align: middle;\n",
       "    }\n",
       "\n",
       "    .dataframe tbody tr th {\n",
       "        vertical-align: top;\n",
       "    }\n",
       "\n",
       "    .dataframe thead th {\n",
       "        text-align: right;\n",
       "    }\n",
       "</style>\n",
       "<table border=\"1\" class=\"dataframe\">\n",
       "  <thead>\n",
       "    <tr style=\"text-align: right;\">\n",
       "      <th></th>\n",
       "      <th>category_Fleiss_kappa</th>\n",
       "    </tr>\n",
       "  </thead>\n",
       "  <tbody>\n",
       "    <tr>\n",
       "      <th>746</th>\n",
       "      <td>1.000000</td>\n",
       "    </tr>\n",
       "    <tr>\n",
       "      <th>1088</th>\n",
       "      <td>1.000000</td>\n",
       "    </tr>\n",
       "    <tr>\n",
       "      <th>1317</th>\n",
       "      <td>0.607143</td>\n",
       "    </tr>\n",
       "    <tr>\n",
       "      <th>548</th>\n",
       "      <td>0.811966</td>\n",
       "    </tr>\n",
       "    <tr>\n",
       "      <th>159</th>\n",
       "      <td>1.000000</td>\n",
       "    </tr>\n",
       "    <tr>\n",
       "      <th>...</th>\n",
       "      <td>...</td>\n",
       "    </tr>\n",
       "    <tr>\n",
       "      <th>332</th>\n",
       "      <td>1.000000</td>\n",
       "    </tr>\n",
       "    <tr>\n",
       "      <th>719</th>\n",
       "      <td>1.000000</td>\n",
       "    </tr>\n",
       "    <tr>\n",
       "      <th>1402</th>\n",
       "      <td>1.000000</td>\n",
       "    </tr>\n",
       "    <tr>\n",
       "      <th>192</th>\n",
       "      <td>-0.100000</td>\n",
       "    </tr>\n",
       "    <tr>\n",
       "      <th>average</th>\n",
       "      <td>0.802860</td>\n",
       "    </tr>\n",
       "  </tbody>\n",
       "</table>\n",
       "<p>138 rows × 1 columns</p>\n",
       "</div>"
      ],
      "text/plain": [
       "         category_Fleiss_kappa\n",
       "746                   1.000000\n",
       "1088                  1.000000\n",
       "1317                  0.607143\n",
       "548                   0.811966\n",
       "159                   1.000000\n",
       "...                        ...\n",
       "332                   1.000000\n",
       "719                   1.000000\n",
       "1402                  1.000000\n",
       "192                  -0.100000\n",
       "average               0.802860\n",
       "\n",
       "[138 rows x 1 columns]"
      ]
     },
     "execution_count": 2,
     "metadata": {},
     "output_type": "execute_result"
    }
   ],
   "source": [
    "'''Fleiss_kappa for error_category - sql_id'''\n",
    "errorcategory = pd.read_csv('/Users/tianyisun/Desktop/NLQbatches/batch5/correct_batch5_anntask_sql_errorcategory.csv')\n",
    "errorcategory =errorcategory.drop(columns=['Unnamed: 0'], axis=1)\n",
    "errorcategory = errorcategory[['username','sql_id','code']]\n",
    "print('length: ', len(errorcategory.sql_id.unique()))\n",
    "'''calculate Fleiss_kappa'''\n",
    "errorcategory_matrix,errorcategory_id = matrix(errorcategory)\n",
    "ls = split_matrix(errorcategory_matrix)\n",
    "ls = [1 if math.isnan(x) else x for x in ls]\n",
    "catsign= np.sign(ls)\n",
    "errorcategory_matrix_ave_F_kappa = sum(ls)/len(ls)\n",
    "errorcategory_id['category_Fleiss_kappa'] = ls\n",
    "result = pd.DataFrame([[errorcategory_matrix_ave_F_kappa]], columns=['category_Fleiss_kappa'],index = ['average'])\n",
    "result = errorcategory_id.append(result)\n",
    "result"
   ]
  },
  {
   "cell_type": "code",
   "execution_count": null,
   "id": "a6e0304f",
   "metadata": {},
   "outputs": [],
   "source": [
    "result.to_csv('batch5/correct_batch5_sql-category_Fleiss_kappa.csv')"
   ]
  },
  {
   "cell_type": "code",
   "execution_count": null,
   "id": "9e16fc67",
   "metadata": {},
   "outputs": [],
   "source": [
    "### '''Fleiss_kappa for error_type - sql_id'''\n",
    "errortype = pd.read_csv('/Users/tianyisun/Desktop/NLQbatches/batch7/correct_batch4567_anntask_sql_type.csv')\n",
    "errortype =errortype.drop(columns=['Unnamed: 0'], axis=1)\n",
    "errortype = errortype[['username','sql_id','code']]\n",
    "print('length: ', len(errortype.sql_id.unique()))\n",
    "'''calculate Fleiss_kappa'''\n",
    "errortype_matrix,errortype_id = matrix(errortype)\n",
    "ls = split_matrix(errortype_matrix)\n",
    "ls = [1 if math.isnan(x) else x for x in ls]\n",
    "#typesign = np.sign(ls)\n",
    "#for index in range(0,len(ls)): \n",
    "#    if typesign[index]!=catsign[index]:\n",
    "#        ls[index] = -ls[index]\n",
    "#    if 0< ls[index]<0.1:\n",
    "#        ls[index] =ls[index]*10\n",
    "errortype_matrix_ave_F_kappa = sum(ls)/len(ls)\n",
    "errortype_id['type_Fleiss_kappa'] = ls\n",
    "result2 = pd.DataFrame([[errortype_matrix_ave_F_kappa]], columns=['type_Fleiss_kappa'],index = ['average'])\n",
    "result2 = errortype_id.append(result2)\n",
    "print(len(result2))\n",
    "result2"
   ]
  },
  {
   "cell_type": "code",
   "execution_count": null,
   "id": "613c9e78",
   "metadata": {},
   "outputs": [],
   "source": [
    "result2.to_csv('batch7/correct_batch4567_sql-type_Fleiss_kappa.csv')"
   ]
  },
  {
   "cell_type": "code",
   "execution_count": 3,
   "id": "fb4e402f",
   "metadata": {},
   "outputs": [
    {
     "name": "stderr",
     "output_type": "stream",
     "text": [
      "/var/folders/gh/3pd23sd51hn2p7774mv2zt4r0000gn/T/ipykernel_4835/3944299363.py:20: PerformanceWarning: DataFrame is highly fragmented.  This is usually the result of calling `frame.insert` many times, which has poor performance.  Consider joining all columns at once using pd.concat(axis=1) instead.  To get a de-fragmented frame, use `newframe = frame.copy()`\n",
      "  matrix[elelist[2]] =0 # dataframe add a column of zero with the name of elelist[2]\n"
     ]
    },
    {
     "data": {
      "text/html": [
       "<div>\n",
       "<style scoped>\n",
       "    .dataframe tbody tr th:only-of-type {\n",
       "        vertical-align: middle;\n",
       "    }\n",
       "\n",
       "    .dataframe tbody tr th {\n",
       "        vertical-align: top;\n",
       "    }\n",
       "\n",
       "    .dataframe thead th {\n",
       "        text-align: right;\n",
       "    }\n",
       "</style>\n",
       "<table border=\"1\" class=\"dataframe\">\n",
       "  <thead>\n",
       "    <tr style=\"text-align: right;\">\n",
       "      <th></th>\n",
       "      <th>Fleiss_kappa</th>\n",
       "    </tr>\n",
       "  </thead>\n",
       "  <tbody>\n",
       "    <tr>\n",
       "      <th>B</th>\n",
       "      <td>0.718792</td>\n",
       "    </tr>\n",
       "    <tr>\n",
       "      <th>L</th>\n",
       "      <td>0.807584</td>\n",
       "    </tr>\n",
       "    <tr>\n",
       "      <th>F</th>\n",
       "      <td>0.768385</td>\n",
       "    </tr>\n",
       "    <tr>\n",
       "      <th>A</th>\n",
       "      <td>0.790883</td>\n",
       "    </tr>\n",
       "    <tr>\n",
       "      <th>N</th>\n",
       "      <td>0.725852</td>\n",
       "    </tr>\n",
       "    <tr>\n",
       "      <th>C</th>\n",
       "      <td>0.708657</td>\n",
       "    </tr>\n",
       "    <tr>\n",
       "      <th>E</th>\n",
       "      <td>0.882107</td>\n",
       "    </tr>\n",
       "    <tr>\n",
       "      <th>D</th>\n",
       "      <td>0.780975</td>\n",
       "    </tr>\n",
       "    <tr>\n",
       "      <th>K</th>\n",
       "      <td>0.857613</td>\n",
       "    </tr>\n",
       "    <tr>\n",
       "      <th>P</th>\n",
       "      <td>0.796283</td>\n",
       "    </tr>\n",
       "    <tr>\n",
       "      <th>Q</th>\n",
       "      <td>1.000000</td>\n",
       "    </tr>\n",
       "    <tr>\n",
       "      <th>average</th>\n",
       "      <td>0.803376</td>\n",
       "    </tr>\n",
       "  </tbody>\n",
       "</table>\n",
       "</div>"
      ],
      "text/plain": [
       "         Fleiss_kappa\n",
       "B            0.718792\n",
       "L            0.807584\n",
       "F            0.768385\n",
       "A            0.790883\n",
       "N            0.725852\n",
       "C            0.708657\n",
       "E            0.882107\n",
       "D            0.780975\n",
       "K            0.857613\n",
       "P            0.796283\n",
       "Q            1.000000\n",
       "average      0.803376"
      ]
     },
     "execution_count": 3,
     "metadata": {},
     "output_type": "execute_result"
    }
   ],
   "source": [
    "'''Fleiss_kappa for error_category '''\n",
    "disagreement = errorcategory[['username','code','sql_id']]\n",
    "\n",
    "'''calculate Fleiss_kappa'''\n",
    "disagreement_matrix,id = matrix(disagreement)\n",
    "ls = split_matrix(disagreement_matrix)\n",
    "ls = [1 if math.isnan(x) else x for x in ls]\n",
    "disagreement_matrix_ave_F_kappa = sum(ls)/len(ls)\n",
    "id['Fleiss_kappa'] = ls\n",
    "disagreement_result = pd.DataFrame([[disagreement_matrix_ave_F_kappa]], columns=['Fleiss_kappa'],index = ['average'])\n",
    "#print(len(disagreement_result))\n",
    "disagreement_result = id.append(disagreement_result)\n",
    "disagreement_result"
   ]
  },
  {
   "cell_type": "code",
   "execution_count": 4,
   "id": "f945985f",
   "metadata": {
    "execution": {
     "iopub.execute_input": "2021-09-07T22:42:25.470276Z",
     "iopub.status.busy": "2021-09-07T22:42:25.414449Z",
     "iopub.status.idle": "2021-09-07T22:42:28.805480Z",
     "shell.execute_reply": "2021-09-07T22:42:28.804744Z",
     "shell.execute_reply.started": "2021-08-23T04:46:15.159478Z"
    },
    "papermill": {
     "duration": 3.466519,
     "end_time": "2021-09-07T22:42:28.805691",
     "exception": false,
     "start_time": "2021-09-07T22:42:25.339172",
     "status": "completed"
    },
    "tags": []
   },
   "outputs": [],
   "source": [
    "disagreement_result.to_csv('batch5/correct_batch5_category_Fleiss_kappa.csv')"
   ]
  },
  {
   "cell_type": "markdown",
   "id": "01f934b3",
   "metadata": {
    "papermill": {
     "duration": 0.011168,
     "end_time": "2021-09-07T22:42:28.829045",
     "exception": false,
     "start_time": "2021-09-07T22:42:28.817877",
     "status": "completed"
    },
    "tags": []
   },
   "source": [
    "---\n",
    "---"
   ]
  },
  {
   "cell_type": "markdown",
   "id": "4a6571e1",
   "metadata": {
    "execution": {
     "iopub.execute_input": "2021-08-13T18:45:52.275026Z",
     "iopub.status.busy": "2021-08-13T18:45:52.274659Z",
     "iopub.status.idle": "2021-08-13T18:45:52.30058Z",
     "shell.execute_reply": "2021-08-13T18:45:52.299112Z",
     "shell.execute_reply.started": "2021-08-13T18:45:52.274997Z"
    },
    "papermill": {
     "duration": 0.011053,
     "end_time": "2021-09-07T22:42:28.851327",
     "exception": false,
     "start_time": "2021-09-07T22:42:28.840274",
     "status": "completed"
    },
    "tags": []
   },
   "source": [
    "'''\n",
    "## preparing for matrix \n",
    "'''\n",
    "mapping= pd.read_csv('/kaggle/input/forkappa/mapping.csv')\n",
    "#record_id = pd.read_csv('/kaggle/input/matrix/record_id_code.csv')\n",
    "#description = pd.read_csv('/kaggle/input/matrix2/description_matrx.csv')\n",
    "#descri_matrix= description.iloc[0:181,1:39]\n",
    "#record_matrix= record_id.iloc[0:184,1:39]"
   ]
  },
  {
   "cell_type": "markdown",
   "id": "18573bf0",
   "metadata": {
    "papermill": {
     "duration": 0.01085,
     "end_time": "2021-09-07T22:42:28.873766",
     "exception": false,
     "start_time": "2021-09-07T22:42:28.862916",
     "status": "completed"
    },
    "tags": []
   },
   "source": [
    "---\n",
    "---"
   ]
  }
 ],
 "metadata": {
  "kernelspec": {
   "display_name": "Python 3 (ipykernel)",
   "language": "python",
   "name": "python3"
  },
  "language_info": {
   "codemirror_mode": {
    "name": "ipython",
    "version": 3
   },
   "file_extension": ".py",
   "mimetype": "text/x-python",
   "name": "python",
   "nbconvert_exporter": "python",
   "pygments_lexer": "ipython3",
   "version": "3.9.7"
  },
  "papermill": {
   "default_parameters": {},
   "duration": 29.475173,
   "end_time": "2021-09-07T22:42:29.494034",
   "environment_variables": {},
   "exception": null,
   "input_path": "__notebook__.ipynb",
   "output_path": "__notebook__.ipynb",
   "parameters": {},
   "start_time": "2021-09-07T22:42:00.018861",
   "version": "2.3.3"
  }
 },
 "nbformat": 4,
 "nbformat_minor": 5
}
