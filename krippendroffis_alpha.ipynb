{
 "cells": [
  {
   "cell_type": "code",
   "execution_count": 1,
   "id": "7edeb6e6",
   "metadata": {
    "execution": {
     "iopub.execute_input": "2021-09-07T23:19:54.815854Z",
     "iopub.status.busy": "2021-09-07T23:19:54.805310Z",
     "iopub.status.idle": "2021-09-07T23:20:03.694204Z",
     "shell.execute_reply": "2021-09-07T23:20:03.694733Z",
     "shell.execute_reply.started": "2021-09-07T23:11:52.450599Z"
    },
    "papermill": {
     "duration": 8.913482,
     "end_time": "2021-09-07T23:20:03.695025",
     "exception": false,
     "start_time": "2021-09-07T23:19:54.781543",
     "status": "completed"
    },
    "tags": []
   },
   "outputs": [
    {
     "name": "stdout",
     "output_type": "stream",
     "text": [
      "Collecting package metadata (current_repodata.json): done\n",
      "Solving environment: done\n",
      "\n",
      "## Package Plan ##\n",
      "\n",
      "  environment location: /opt/anaconda3\n",
      "\n",
      "  added / updated specs:\n",
      "    - pip\n",
      "\n",
      "\n",
      "The following packages will be downloaded:\n",
      "\n",
      "    package                    |            build\n",
      "    ---------------------------|-----------------\n",
      "    conda-4.11.0               |   py39hecd8cb5_0        14.4 MB\n",
      "    ------------------------------------------------------------\n",
      "                                           Total:        14.4 MB\n",
      "\n",
      "The following packages will be UPDATED:\n",
      "\n",
      "  conda                               4.10.3-py39hecd8cb5_0 --> 4.11.0-py39hecd8cb5_0\n",
      "\n",
      "\n",
      "\n",
      "Downloading and Extracting Packages\n",
      "conda-4.11.0         | 14.4 MB   | ##################################### | 100% \n",
      "Preparing transaction: done\n",
      "Verifying transaction: done\n",
      "Executing transaction: done\n",
      "Requirement already satisfied: krippendorff in /opt/anaconda3/lib/python3.9/site-packages (0.5.0)\n",
      "Requirement already satisfied: numpy in /opt/anaconda3/lib/python3.9/site-packages (from krippendorff) (1.20.3)\n"
     ]
    }
   ],
   "source": [
    "import sys\n",
    "!conda install --yes --prefix {sys.prefix} pip\n",
    "!{sys.executable} -m pip install krippendorff"
   ]
  },
  {
   "cell_type": "code",
   "execution_count": 2,
   "id": "90fccfad",
   "metadata": {
    "execution": {
     "iopub.execute_input": "2021-09-07T23:20:03.839251Z",
     "iopub.status.busy": "2021-09-07T23:20:03.827365Z",
     "iopub.status.idle": "2021-09-07T23:20:03.846864Z",
     "shell.execute_reply": "2021-09-07T23:20:03.846266Z",
     "shell.execute_reply.started": "2021-09-07T23:11:59.653574Z"
    },
    "papermill": {
     "duration": 0.140604,
     "end_time": "2021-09-07T23:20:03.847015",
     "exception": false,
     "start_time": "2021-09-07T23:20:03.706411",
     "status": "completed"
    },
    "tags": []
   },
   "outputs": [],
   "source": [
    "import numpy as np \n",
    "import pandas as pd \n",
    "#!/usr/bin/env python\n",
    "from pandas import DataFrame\n",
    "import krippendorff\n",
    "\n",
    "''' \n",
    "for disagreement of errors\n",
    "'ann' should be a df with three columns: 1.coder; 2.code; 3.id. \n",
    "'''\n",
    "def create_df(ann):  \n",
    "    dflist =[]\n",
    "    codelist = list(ann.code.unique())\n",
    "    unique_code = ann.code.unique() # len = 181\n",
    "    for j in range(0,len(unique_code)):  # col\n",
    "        df = pd.DataFrame(0,columns = list(ann.id.unique()), index =list(ann.coder.unique()))\n",
    "        for i in ann.index:\n",
    "            if ann.iloc[i][1] ==unique_code[j]:  # j=0\n",
    "                for coder in list(ann.coder.unique()):\n",
    "                    if coder == ann.iloc[i][0]:\n",
    "                        for error in list(ann.id.unique()):\n",
    "                            if error == ann.iloc[i][2]:\n",
    "                                df.loc[coder][error]+=1\n",
    "        alist = df.values.tolist()\n",
    "        dflist.append(alist)\n",
    "    return dflist,codelist\n",
    "\n",
    "''' 'ann' should be a df with three columns: 1.coder; 2.id; 3.code. '''\n",
    "def create_single_df(ann):  \n",
    "    dflist =[]\n",
    "    idlist=list(ann.id.unique())\n",
    "    #unique_id = ann.descr_id.unique() # len = 178\n",
    "    unique_id = ann.id.unique() # len = 181\n",
    "    for j in range(0,len(unique_id)):  # col\n",
    "        df = pd.DataFrame(0,columns = list(ann.code.unique()), index =list(ann.coder.unique()))\n",
    "        for i in ann.index:\n",
    "            if ann.iloc[i][1] ==unique_id[j]:  # j=0\n",
    "                for coder in list(ann.coder.unique()):\n",
    "                    if coder == ann.iloc[i][0]:\n",
    "                        for error in list(ann.code.unique()):\n",
    "                            if error == ann.iloc[i][2]:\n",
    "                                df.loc[coder][error]+=1\n",
    "        alist = df.values.tolist()\n",
    "        dflist.append(alist)\n",
    "    return dflist,idlist\n",
    "\n",
    "def total(dflist):\n",
    "    total = 0\n",
    "    for j in dflist:\n",
    "        for i in j:\n",
    "            total +=sum(i)\n",
    "    return total\n",
    "\n",
    "def nestedlist_to_str(dflist):\n",
    "    for i in range(0,len(dflist)):\n",
    "        for j in range(0,len(dflist[i])):\n",
    "            dflist[i][j] =  \" \".join(str(e) for e in dflist[i][j])\n",
    "    return dflist\n",
    "\n",
    "'''krippendorff score function'''\n",
    "def Krippendroffis_alpha(ls):\n",
    "    l=[]\n",
    "    for i in range(0,len(ls)):\n",
    "        reliability_data_str = (ls[i])\n",
    "        reliability_data = [[np.nan if v == '*' else int(v) for v in coder.split()] for coder in reliability_data_str]\n",
    "        #print(\"Krippendorff's alpha for nominal metric\",i,\":\", krippendorff.alpha(reliability_data=reliability_data,\n",
    "        #                                                                      level_of_measurement='nominal'))\n",
    "        l.append(krippendorff.alpha(reliability_data=reliability_data,level_of_measurement='nominal'))\n",
    "    return l"
   ]
  },
  {
   "cell_type": "code",
   "execution_count": 3,
   "id": "c1630db1",
   "metadata": {
    "execution": {
     "iopub.execute_input": "2021-09-07T23:20:03.874549Z",
     "iopub.status.busy": "2021-09-07T23:20:03.873859Z",
     "iopub.status.idle": "2021-09-07T23:20:03.931177Z",
     "shell.execute_reply": "2021-09-07T23:20:03.931716Z",
     "shell.execute_reply.started": "2021-09-07T23:12:17.328345Z"
    },
    "papermill": {
     "duration": 0.073535,
     "end_time": "2021-09-07T23:20:03.931897",
     "exception": false,
     "start_time": "2021-09-07T23:20:03.858362",
     "status": "completed"
    },
    "tags": []
   },
   "outputs": [
    {
     "name": "stdout",
     "output_type": "stream",
     "text": [
      "/Users/tianyisun/Desktop/NLQbatches/batch7/correct_batch7.csv\n",
      "/Users/tianyisun/Desktop/NLQbatches/batch7/correct_batch7_sql-category_Fleiss_kappa.csv\n",
      "/Users/tianyisun/Desktop/NLQbatches/batch7/batch7_sql-type_Krippendroffis_alpha.csv\n",
      "/Users/tianyisun/Desktop/NLQbatches/batch7/annotation_feedback_batch7.csv\n",
      "/Users/tianyisun/Desktop/NLQbatches/batch7/.DS_Store\n",
      "/Users/tianyisun/Desktop/NLQbatches/batch7/qporepair.csv\n",
      "/Users/tianyisun/Desktop/NLQbatches/batch7/batch7_annotationtask_sql_errorcategory.csv\n",
      "/Users/tianyisun/Desktop/NLQbatches/batch7/nz_cprepair2.csv\n",
      "/Users/tianyisun/Desktop/NLQbatches/batch7/batch7_category_Krippendroffis_alpha.csv\n",
      "/Users/tianyisun/Desktop/NLQbatches/batch7/correct_batch7_category_Fleiss_kappa.csv\n",
      "/Users/tianyisun/Desktop/NLQbatches/batch7/batch7_annotationtask_sql_type.csv\n",
      "/Users/tianyisun/Desktop/NLQbatches/batch7/correct_batch7_sql-type_Fleiss_kappa.csv\n",
      "/Users/tianyisun/Desktop/NLQbatches/batch7/cprepair2.csv\n",
      "/Users/tianyisun/Desktop/NLQbatches/batch7/cprepair_nz.csv\n",
      "/Users/tianyisun/Desktop/NLQbatches/batch7/correct_batch4567_category_Fleiss_kappa.csv\n",
      "/Users/tianyisun/Desktop/NLQbatches/batch7/correct_batch4567_sql-type_Fleiss_kappa.csv\n",
      "/Users/tianyisun/Desktop/NLQbatches/batch7/batch7_sql-category_Krippendroffis_alpha.csv\n",
      "/Users/tianyisun/Desktop/NLQbatches/batch7/batch7_type_stability.csv\n",
      "/Users/tianyisun/Desktop/NLQbatches/batch7/batch7.csv\n",
      "/Users/tianyisun/Desktop/NLQbatches/batch7/correct_batch7_anntask_sql_errorcategory.csv\n",
      "/Users/tianyisun/Desktop/NLQbatches/batch7/correct_batch7_sql-category_Krippendroffis_alpha.csv\n",
      "/Users/tianyisun/Desktop/NLQbatches/batch7/correct_batch7_type_stability.csv\n",
      "/Users/tianyisun/Desktop/NLQbatches/batch7/correct_batch4567_anntask_sql_errorcategory.csv\n",
      "/Users/tianyisun/Desktop/NLQbatches/batch7/tianyi_cpreqair.csv\n",
      "/Users/tianyisun/Desktop/NLQbatches/batch7/batch7_category_stability.csv\n",
      "/Users/tianyisun/Desktop/NLQbatches/batch7/batch7_sql-category_Fleiss_kappa.csv\n",
      "/Users/tianyisun/Desktop/NLQbatches/batch7/correct_batch4567_anntask_sql_type.csv\n",
      "/Users/tianyisun/Desktop/NLQbatches/batch7/correct_batch7_anntask_sql_type.csv\n",
      "/Users/tianyisun/Desktop/NLQbatches/batch7/correct_batch7_category_stability.csv\n",
      "/Users/tianyisun/Desktop/NLQbatches/batch7/batch7.numbers\n",
      "/Users/tianyisun/Desktop/NLQbatches/batch7/batch7_sql-type_Fleiss_kappa.csv\n",
      "/Users/tianyisun/Desktop/NLQbatches/batch7/correct_batch5_anntask_sql_errorcategory.csv\n",
      "/Users/tianyisun/Desktop/NLQbatches/batch7/correctbatch7pre.csv\n",
      "/Users/tianyisun/Desktop/NLQbatches/batch7/batch7_category_Fleiss_kappa.csv\n",
      "/Users/tianyisun/Desktop/NLQbatches/batch7/correct_batch7_sql-type_Krippendroffis_alpha.csv\n",
      "/Users/tianyisun/Desktop/NLQbatches/batch7/correctbatch7.csv\n",
      "/Users/tianyisun/Desktop/NLQbatches/batch7/correct_batch7_category_Krippendroffis_alpha.csv\n",
      "/Users/tianyisun/Desktop/NLQbatches/batch7/correct_batch7_zhengn.csv\n",
      "/Users/tianyisun/Desktop/NLQbatches/batch7/correct_batch4567_sql-category_Fleiss_kappa.csv\n",
      "/Users/tianyisun/Desktop/NLQbatches/batch7/.ipynb_checkpoints/merge batch and feedback-checkpoint.ipynb\n"
     ]
    }
   ],
   "source": [
    "import os\n",
    "for dirname, _, filenames in os.walk('/Users/tianyisun/Desktop/NLQbatches/batch7'):\n",
    "    for filename in filenames:\n",
    "        print(os.path.join(dirname, filename))"
   ]
  },
  {
   "cell_type": "code",
   "execution_count": 4,
   "id": "32649b18",
   "metadata": {
    "execution": {
     "iopub.execute_input": "2021-09-07T23:20:03.962182Z",
     "iopub.status.busy": "2021-09-07T23:20:03.961519Z",
     "iopub.status.idle": "2021-09-07T23:20:03.998447Z",
     "shell.execute_reply": "2021-09-07T23:20:03.998925Z",
     "shell.execute_reply.started": "2021-09-07T23:12:26.125766Z"
    },
    "papermill": {
     "duration": 0.055633,
     "end_time": "2021-09-07T23:20:03.999097",
     "exception": false,
     "start_time": "2021-09-07T23:20:03.943464",
     "status": "completed"
    },
    "tags": []
   },
   "outputs": [
    {
     "data": {
      "text/plain": [
       "1098"
      ]
     },
     "execution_count": 4,
     "metadata": {},
     "output_type": "execute_result"
    }
   ],
   "source": [
    "'''Krippendroffis alpha for error_category'''\n",
    "errorcategory= pd.read_csv('/Users/tianyisun/Desktop/NLQbatches/batch7/correct_batch4567_anntask_sql_errorcategory.csv')\n",
    "errorcategory = errorcategory[['username','sql_id','code']]\n",
    "errorcategory = errorcategory.rename(columns ={'username':'coder'}) \n",
    "errorcategory = errorcategory.rename(columns ={'sql_id':'id'}) \n",
    "#errorcategory = errorcategory.rename(columns ={'error_classification':'code'}) \n",
    "disagreement = errorcategory[['coder','code','id']]\n",
    "len(errorcategory.id.unique())"
   ]
  },
  {
   "cell_type": "code",
   "execution_count": 5,
   "id": "731a7cfd",
   "metadata": {},
   "outputs": [
    {
     "name": "stdout",
     "output_type": "stream",
     "text": [
      "13\n",
      "2\n",
      "6325\n",
      "13\n",
      "0.8415733320031914\n"
     ]
    },
    {
     "data": {
      "text/html": [
       "<div>\n",
       "<style scoped>\n",
       "    .dataframe tbody tr th:only-of-type {\n",
       "        vertical-align: middle;\n",
       "    }\n",
       "\n",
       "    .dataframe tbody tr th {\n",
       "        vertical-align: top;\n",
       "    }\n",
       "\n",
       "    .dataframe thead th {\n",
       "        text-align: right;\n",
       "    }\n",
       "</style>\n",
       "<table border=\"1\" class=\"dataframe\">\n",
       "  <thead>\n",
       "    <tr style=\"text-align: right;\">\n",
       "      <th></th>\n",
       "      <th>Krippendroffis_alpha</th>\n",
       "    </tr>\n",
       "    <tr>\n",
       "      <th>category</th>\n",
       "      <th></th>\n",
       "    </tr>\n",
       "  </thead>\n",
       "  <tbody>\n",
       "    <tr>\n",
       "      <th>F</th>\n",
       "      <td>0.779149</td>\n",
       "    </tr>\n",
       "    <tr>\n",
       "      <th>D</th>\n",
       "      <td>0.817972</td>\n",
       "    </tr>\n",
       "    <tr>\n",
       "      <th>A</th>\n",
       "      <td>0.82571</td>\n",
       "    </tr>\n",
       "    <tr>\n",
       "      <th>K</th>\n",
       "      <td>0.788702</td>\n",
       "    </tr>\n",
       "    <tr>\n",
       "      <th>C</th>\n",
       "      <td>0.74256</td>\n",
       "    </tr>\n",
       "    <tr>\n",
       "      <th>L</th>\n",
       "      <td>0.796083</td>\n",
       "    </tr>\n",
       "    <tr>\n",
       "      <th>B</th>\n",
       "      <td>0.661136</td>\n",
       "    </tr>\n",
       "    <tr>\n",
       "      <th>N</th>\n",
       "      <td>0.785702</td>\n",
       "    </tr>\n",
       "    <tr>\n",
       "      <th>E</th>\n",
       "      <td>0.877084</td>\n",
       "    </tr>\n",
       "    <tr>\n",
       "      <th>P</th>\n",
       "      <td>0.955132</td>\n",
       "    </tr>\n",
       "    <tr>\n",
       "      <th>Q</th>\n",
       "      <td>1.0</td>\n",
       "    </tr>\n",
       "    <tr>\n",
       "      <th>O</th>\n",
       "      <td>0.911223</td>\n",
       "    </tr>\n",
       "    <tr>\n",
       "      <th>R</th>\n",
       "      <td>1.0</td>\n",
       "    </tr>\n",
       "    <tr>\n",
       "      <th>average</th>\n",
       "      <td>0.841573</td>\n",
       "    </tr>\n",
       "  </tbody>\n",
       "</table>\n",
       "</div>"
      ],
      "text/plain": [
       "         Krippendroffis_alpha\n",
       "category                     \n",
       "F                    0.779149\n",
       "D                    0.817972\n",
       "A                     0.82571\n",
       "K                    0.788702\n",
       "C                     0.74256\n",
       "L                    0.796083\n",
       "B                    0.661136\n",
       "N                    0.785702\n",
       "E                    0.877084\n",
       "P                    0.955132\n",
       "Q                         1.0\n",
       "O                    0.911223\n",
       "R                         1.0\n",
       "average              0.841573"
      ]
     },
     "execution_count": 5,
     "metadata": {},
     "output_type": "execute_result"
    }
   ],
   "source": [
    "''' category Krippendroffis alpha'''\n",
    "disagreement_dflist, disagreement_idlist = create_df(disagreement)\n",
    "#print('creat df', disagreement_dflist)\n",
    "print(len(disagreement_dflist)) # 40 \n",
    "print(len(disagreement_dflist[0])) # 4\n",
    "print(total(disagreement_dflist)) # 287\n",
    "disagreement_ls = nestedlist_to_str(disagreement_dflist)\n",
    "disagreement_l = Krippendroffis_alpha(disagreement_ls)\n",
    "#disagreement_l[9] = 0.7550345781466113\n",
    "print(len(disagreement_l))\n",
    "disagreement_ave_Krippendroffis_alpha = sum(disagreement_l)/len(disagreement_l)\n",
    "print(disagreement_ave_Krippendroffis_alpha)  \n",
    "df = pd.DataFrame([disagreement_idlist,disagreement_l])\n",
    "df = df.T\n",
    "df.columns = ['category','Krippendroffis_alpha'] \n",
    "result = pd.DataFrame([['average',disagreement_ave_Krippendroffis_alpha]], columns=['category','Krippendroffis_alpha'])\n",
    "df = df.append(result, ignore_index = True)\n",
    "df = df.set_index('category')\n",
    "df"
   ]
  },
  {
   "cell_type": "code",
   "execution_count": 6,
   "id": "d958a0f0",
   "metadata": {},
   "outputs": [],
   "source": [
    "df.to_csv('batch7/correct_batch4567_category_Krippendroffis_alpha.csv', index = True)"
   ]
  },
  {
   "cell_type": "code",
   "execution_count": 7,
   "id": "7bb620dd",
   "metadata": {},
   "outputs": [
    {
     "name": "stdout",
     "output_type": "stream",
     "text": [
      "1098\n",
      "2\n",
      "6325\n",
      "0.8250118481773835\n"
     ]
    },
    {
     "data": {
      "text/html": [
       "<div>\n",
       "<style scoped>\n",
       "    .dataframe tbody tr th:only-of-type {\n",
       "        vertical-align: middle;\n",
       "    }\n",
       "\n",
       "    .dataframe tbody tr th {\n",
       "        vertical-align: top;\n",
       "    }\n",
       "\n",
       "    .dataframe thead th {\n",
       "        text-align: right;\n",
       "    }\n",
       "</style>\n",
       "<table border=\"1\" class=\"dataframe\">\n",
       "  <thead>\n",
       "    <tr style=\"text-align: right;\">\n",
       "      <th></th>\n",
       "      <th>category_Krippendroffis_alpha</th>\n",
       "    </tr>\n",
       "    <tr>\n",
       "      <th>errorcategory</th>\n",
       "      <th></th>\n",
       "    </tr>\n",
       "  </thead>\n",
       "  <tbody>\n",
       "    <tr>\n",
       "      <th>1024</th>\n",
       "      <td>1.000000</td>\n",
       "    </tr>\n",
       "    <tr>\n",
       "      <th>1025</th>\n",
       "      <td>0.761905</td>\n",
       "    </tr>\n",
       "    <tr>\n",
       "      <th>1026</th>\n",
       "      <td>1.000000</td>\n",
       "    </tr>\n",
       "    <tr>\n",
       "      <th>689</th>\n",
       "      <td>0.583333</td>\n",
       "    </tr>\n",
       "    <tr>\n",
       "      <th>1027</th>\n",
       "      <td>0.583333</td>\n",
       "    </tr>\n",
       "    <tr>\n",
       "      <th>...</th>\n",
       "      <td>...</td>\n",
       "    </tr>\n",
       "    <tr>\n",
       "      <th>396</th>\n",
       "      <td>1.000000</td>\n",
       "    </tr>\n",
       "    <tr>\n",
       "      <th>397</th>\n",
       "      <td>1.000000</td>\n",
       "    </tr>\n",
       "    <tr>\n",
       "      <th>512</th>\n",
       "      <td>0.000000</td>\n",
       "    </tr>\n",
       "    <tr>\n",
       "      <th>537</th>\n",
       "      <td>0.000000</td>\n",
       "    </tr>\n",
       "    <tr>\n",
       "      <th>average</th>\n",
       "      <td>0.825012</td>\n",
       "    </tr>\n",
       "  </tbody>\n",
       "</table>\n",
       "<p>1099 rows × 1 columns</p>\n",
       "</div>"
      ],
      "text/plain": [
       "               category_Krippendroffis_alpha\n",
       "errorcategory                               \n",
       "1024                                1.000000\n",
       "1025                                0.761905\n",
       "1026                                1.000000\n",
       "689                                 0.583333\n",
       "1027                                0.583333\n",
       "...                                      ...\n",
       "396                                 1.000000\n",
       "397                                 1.000000\n",
       "512                                 0.000000\n",
       "537                                 0.000000\n",
       "average                             0.825012\n",
       "\n",
       "[1099 rows x 1 columns]"
      ]
     },
     "execution_count": 7,
     "metadata": {},
     "output_type": "execute_result"
    }
   ],
   "source": [
    "'''Krippendroffis alpha for errorcategory - sql_id Krippendroffis alpha'''\n",
    "errorcategory_dflist, errorcategory_idlist = create_single_df(errorcategory)\n",
    "#print('creat single df', disagreement_dflist)\n",
    "print(len(errorcategory_dflist)) # 178\n",
    "print(len(errorcategory_dflist[0])) # 4\n",
    "print(total(errorcategory_dflist)) # 981\n",
    "errorcategory_ls = nestedlist_to_str(errorcategory_dflist)\n",
    "errorcategory_l = Krippendroffis_alpha(errorcategory_ls)\n",
    "errorcategory_ave_Krippendroffis_alpha = sum(errorcategory_l)/len(errorcategory_l)\n",
    "print(errorcategory_ave_Krippendroffis_alpha) \n",
    "df = pd.DataFrame([errorcategory_idlist,errorcategory_l])\n",
    "df = df.T\n",
    "df.columns = ['errorcategory','category_Krippendroffis_alpha'] \n",
    "df.errorcategory = df.errorcategory.astype(int)\n",
    "result = pd.DataFrame([['average',errorcategory_ave_Krippendroffis_alpha]], columns=['errorcategory','category_Krippendroffis_alpha'])\n",
    "df = df.append(result, ignore_index = True)\n",
    "df = df.set_index('errorcategory')\n",
    "df"
   ]
  },
  {
   "cell_type": "code",
   "execution_count": 8,
   "id": "1579d3b0",
   "metadata": {
    "execution": {
     "iopub.execute_input": "2021-09-07T23:21:55.333341Z",
     "iopub.status.busy": "2021-09-07T23:21:55.332047Z",
     "iopub.status.idle": "2021-09-07T23:23:47.278728Z",
     "shell.execute_reply": "2021-09-07T23:23:47.278186Z",
     "shell.execute_reply.started": "2021-09-07T23:14:56.125407Z"
    },
    "papermill": {
     "duration": 111.968154,
     "end_time": "2021-09-07T23:23:47.278876",
     "exception": false,
     "start_time": "2021-09-07T23:21:55.310722",
     "status": "completed"
    },
    "tags": []
   },
   "outputs": [],
   "source": [
    "df.to_csv('batch7/correct_batch4567_sql-category_Krippendroffis_alpha.csv', index = True)"
   ]
  },
  {
   "cell_type": "markdown",
   "id": "230c9fe7",
   "metadata": {
    "papermill": {
     "duration": 0.013079,
     "end_time": "2021-09-07T23:23:47.305327",
     "exception": false,
     "start_time": "2021-09-07T23:23:47.292248",
     "status": "completed"
    },
    "tags": []
   },
   "source": [
    "----"
   ]
  },
  {
   "cell_type": "code",
   "execution_count": 9,
   "id": "7a58de77",
   "metadata": {
    "execution": {
     "iopub.execute_input": "2021-09-07T23:23:47.338388Z",
     "iopub.status.busy": "2021-09-07T23:23:47.337724Z",
     "iopub.status.idle": "2021-09-07T23:23:47.358759Z",
     "shell.execute_reply": "2021-09-07T23:23:47.358133Z",
     "shell.execute_reply.started": "2021-09-07T23:16:58.045350Z"
    },
    "papermill": {
     "duration": 0.040117,
     "end_time": "2021-09-07T23:23:47.358902",
     "exception": false,
     "start_time": "2021-09-07T23:23:47.318785",
     "status": "completed"
    },
    "tags": []
   },
   "outputs": [
    {
     "data": {
      "text/plain": [
       "1098"
      ]
     },
     "execution_count": 9,
     "metadata": {},
     "output_type": "execute_result"
    }
   ],
   "source": [
    "'''Krippendroffis alpha for error_type - sql_id Krippendroffis alpha'''\n",
    "errortype= pd.read_csv('/Users/tianyisun/Desktop/NLQbatches/batch7/correct_batch4567_anntask_sql_type.csv')\n",
    "errortype = errortype[['username','sql_id','code']]\n",
    "errortype = errortype.rename(columns ={'username':'coder'}) \n",
    "errortype = errortype.rename(columns ={'sql_id':'id'}) \n",
    "#errortype = errortype.rename(columns ={'error_classification':'code'}) \n",
    "len(errorcategory.id.unique())"
   ]
  },
  {
   "cell_type": "code",
   "execution_count": 10,
   "id": "dc2ce595",
   "metadata": {
    "execution": {
     "iopub.execute_input": "2021-09-07T23:23:47.395568Z",
     "iopub.status.busy": "2021-09-07T23:23:47.394932Z",
     "iopub.status.idle": "2021-09-07T23:25:16.350240Z",
     "shell.execute_reply": "2021-09-07T23:25:16.349716Z",
     "shell.execute_reply.started": "2021-09-07T23:17:00.452316Z"
    },
    "papermill": {
     "duration": 88.977455,
     "end_time": "2021-09-07T23:25:16.350378",
     "exception": false,
     "start_time": "2021-09-07T23:23:47.372923",
     "status": "completed"
    },
    "tags": []
   },
   "outputs": [
    {
     "name": "stdout",
     "output_type": "stream",
     "text": [
      "1098\n",
      "2\n",
      "5007\n",
      "0.7039702201465525\n"
     ]
    },
    {
     "data": {
      "text/html": [
       "<div>\n",
       "<style scoped>\n",
       "    .dataframe tbody tr th:only-of-type {\n",
       "        vertical-align: middle;\n",
       "    }\n",
       "\n",
       "    .dataframe tbody tr th {\n",
       "        vertical-align: top;\n",
       "    }\n",
       "\n",
       "    .dataframe thead th {\n",
       "        text-align: right;\n",
       "    }\n",
       "</style>\n",
       "<table border=\"1\" class=\"dataframe\">\n",
       "  <thead>\n",
       "    <tr style=\"text-align: right;\">\n",
       "      <th></th>\n",
       "      <th>type_Krippendroffis_alpha</th>\n",
       "    </tr>\n",
       "    <tr>\n",
       "      <th>id</th>\n",
       "      <th></th>\n",
       "    </tr>\n",
       "  </thead>\n",
       "  <tbody>\n",
       "    <tr>\n",
       "      <th>1024.0</th>\n",
       "      <td>0.659498</td>\n",
       "    </tr>\n",
       "    <tr>\n",
       "      <th>1025.0</th>\n",
       "      <td>0.791209</td>\n",
       "    </tr>\n",
       "    <tr>\n",
       "      <th>1026.0</th>\n",
       "      <td>1.000000</td>\n",
       "    </tr>\n",
       "    <tr>\n",
       "      <th>689.0</th>\n",
       "      <td>0.659498</td>\n",
       "    </tr>\n",
       "    <tr>\n",
       "      <th>1027.0</th>\n",
       "      <td>0.659498</td>\n",
       "    </tr>\n",
       "    <tr>\n",
       "      <th>...</th>\n",
       "      <td>...</td>\n",
       "    </tr>\n",
       "    <tr>\n",
       "      <th>396.0</th>\n",
       "      <td>1.000000</td>\n",
       "    </tr>\n",
       "    <tr>\n",
       "      <th>397.0</th>\n",
       "      <td>1.000000</td>\n",
       "    </tr>\n",
       "    <tr>\n",
       "      <th>512.0</th>\n",
       "      <td>-0.010638</td>\n",
       "    </tr>\n",
       "    <tr>\n",
       "      <th>537.0</th>\n",
       "      <td>0.000000</td>\n",
       "    </tr>\n",
       "    <tr>\n",
       "      <th>average</th>\n",
       "      <td>0.703970</td>\n",
       "    </tr>\n",
       "  </tbody>\n",
       "</table>\n",
       "<p>1099 rows × 1 columns</p>\n",
       "</div>"
      ],
      "text/plain": [
       "         type_Krippendroffis_alpha\n",
       "id                                \n",
       "1024.0                    0.659498\n",
       "1025.0                    0.791209\n",
       "1026.0                    1.000000\n",
       "689.0                     0.659498\n",
       "1027.0                    0.659498\n",
       "...                            ...\n",
       "396.0                     1.000000\n",
       "397.0                     1.000000\n",
       "512.0                    -0.010638\n",
       "537.0                     0.000000\n",
       "average                   0.703970\n",
       "\n",
       "[1099 rows x 1 columns]"
      ]
     },
     "execution_count": 10,
     "metadata": {},
     "output_type": "execute_result"
    }
   ],
   "source": [
    "'''Krippendroffis alpha'''\n",
    "errortype_dflist, errortype_idlist = create_single_df(errortype)\n",
    "print(len(errortype_dflist)) # 178\n",
    "print(len(errortype_dflist[0])) # 4\n",
    "print(total(errortype_dflist)) # 981\n",
    "errortype_ls = nestedlist_to_str(errortype_dflist)\n",
    "errortype_l = Krippendroffis_alpha(errortype_ls)\n",
    "errortype_ave_Krippendroffis_alpha = sum(errortype_l)/len(errortype_l)\n",
    "print(errortype_ave_Krippendroffis_alpha) \n",
    "df2 = pd.DataFrame([errortype_idlist,errortype_l])\n",
    "df2 = df2.T\n",
    "df2.columns = ['id','type_Krippendroffis_alpha'] \n",
    "#df2.errortype = df2.errortype.astype(int)\n",
    "result = pd.DataFrame([['average',errortype_ave_Krippendroffis_alpha]], columns=['id','type_Krippendroffis_alpha'])\n",
    "df2 = df2.append(result, ignore_index = True)\n",
    "df2 = df2.set_index('id')\n",
    "df2"
   ]
  },
  {
   "cell_type": "code",
   "execution_count": 11,
   "id": "e7014490",
   "metadata": {},
   "outputs": [],
   "source": [
    "df2.to_csv('batch7/correct_batch4567_sql-type_Krippendroffis_alpha.csv', index = True)"
   ]
  }
 ],
 "metadata": {
  "kernelspec": {
   "display_name": "Python 3 (ipykernel)",
   "language": "python",
   "name": "python3"
  },
  "language_info": {
   "codemirror_mode": {
    "name": "ipython",
    "version": 3
   },
   "file_extension": ".py",
   "mimetype": "text/x-python",
   "name": "python",
   "nbconvert_exporter": "python",
   "pygments_lexer": "ipython3",
   "version": "3.9.7"
  },
  "papermill": {
   "default_parameters": {},
   "duration": 330.873053,
   "end_time": "2021-09-07T23:25:17.708109",
   "environment_variables": {},
   "exception": null,
   "input_path": "__notebook__.ipynb",
   "output_path": "__notebook__.ipynb",
   "parameters": {},
   "start_time": "2021-09-07T23:19:46.835056",
   "version": "2.3.3"
  }
 },
 "nbformat": 4,
 "nbformat_minor": 5
}
