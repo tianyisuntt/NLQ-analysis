{
 "cells": [
  {
   "cell_type": "code",
   "execution_count": 1,
   "id": "0e7f04b8",
   "metadata": {
    "_cell_guid": "b1076dfc-b9ad-4769-8c92-a6c4dae69d19",
    "_uuid": "8f2839f25d086af736a60e9eeb907d3b93b6e0e5",
    "execution": {
     "iopub.execute_input": "2021-09-07T22:18:49.550264Z",
     "iopub.status.busy": "2021-09-07T22:18:49.548848Z",
     "iopub.status.idle": "2021-09-07T22:18:49.607965Z",
     "shell.execute_reply": "2021-09-07T22:18:49.608504Z",
     "shell.execute_reply.started": "2021-09-07T21:49:29.265142Z"
    },
    "papermill": {
     "duration": 0.084305,
     "end_time": "2021-09-07T22:18:49.608840",
     "exception": false,
     "start_time": "2021-09-07T22:18:49.524535",
     "status": "completed"
    },
    "tags": []
   },
   "outputs": [
    {
     "name": "stdout",
     "output_type": "stream",
     "text": [
      "/Users/tianyisun/Desktop/NLQbatches/batch1/batch1_annotationtask_sql_errorcategory.csv\n",
      "/Users/tianyisun/Desktop/NLQbatches/batch1/record_id-code_Krippendroffis_alpha.csv\n",
      "/Users/tianyisun/Desktop/NLQbatches/batch1/annotation_feedback_coded_tianyi.csv\n",
      "/Users/tianyisun/Desktop/NLQbatches/batch1/batch1_category_Fleiss_kappa.csv\n",
      "/Users/tianyisun/Desktop/NLQbatches/batch1/description-code.csv\n",
      "/Users/tianyisun/Desktop/NLQbatches/batch1/.DS_Store\n",
      "/Users/tianyisun/Desktop/NLQbatches/batch1/46iter1_stability.csv\n",
      "/Users/tianyisun/Desktop/NLQbatches/batch1/First-round error type annotation.csv\n",
      "/Users/tianyisun/Desktop/NLQbatches/batch1/anntask.csv\n",
      "/Users/tianyisun/Desktop/NLQbatches/batch1/ann3_description.csv\n",
      "/Users/tianyisun/Desktop/NLQbatches/batch1/descri-code_Fleiss_kappa.csv\n",
      "/Users/tianyisun/Desktop/NLQbatches/batch1/mapping.csv\n",
      "/Users/tianyisun/Desktop/NLQbatches/batch1/annotation_feedback_coded_zheng_v2.csv\n",
      "/Users/tianyisun/Desktop/NLQbatches/batch1/description-code_Krippendroffis_alpha.csv\n",
      "/Users/tianyisun/Desktop/NLQbatches/batch1/first round error type annotations.csv\n",
      "/Users/tianyisun/Desktop/NLQbatches/batch1/record_score.csv\n",
      "/Users/tianyisun/Desktop/NLQbatches/batch1/description_code.csv\n",
      "/Users/tianyisun/Desktop/NLQbatches/batch1/record_id-code_Fleiss_kappa.csv\n",
      "/Users/tianyisun/Desktop/NLQbatches/batch1/annotation_feedback_coded_ningzheng_v2.csv\n",
      "/Users/tianyisun/Desktop/NLQbatches/batch1/result.csv\n",
      "/Users/tianyisun/Desktop/NLQbatches/batch1/annotationsdescription.csv\n",
      "/Users/tianyisun/Desktop/NLQbatches/batch1/description_matrx.csv\n",
      "/Users/tianyisun/Desktop/NLQbatches/batch1/record_id_code_matrix.csv\n",
      "/Users/tianyisun/Desktop/NLQbatches/batch1/desrc_score.csv\n",
      "/Users/tianyisun/Desktop/NLQbatches/batch1/record_id_code.csv\n",
      "/Users/tianyisun/Desktop/NLQbatches/batch1/batch1_category_Krippendroffis_alpha.csv\n",
      "/Users/tianyisun/Desktop/NLQbatches/batch1/result2.csv\n",
      "/Users/tianyisun/Desktop/NLQbatches/batch1/annotation_feedback_coded_tianyi_v2.csv\n",
      "/Users/tianyisun/Desktop/NLQbatches/batch1/batch1_category_stability.csv\n",
      "/Users/tianyisun/Desktop/NLQbatches/batch1/First-round error type annotation - Sheet1_Toby.csv\n"
     ]
    }
   ],
   "source": [
    "import numpy as np \n",
    "import pandas as pd \n",
    "from pandas import DataFrame\n",
    "import os\n",
    "for dirname, _, filenames in os.walk('/Users/tianyisun/Desktop/NLQbatches/batch1'):\n",
    "    for filename in filenames:\n",
    "        print(os.path.join(dirname, filename))"
   ]
  },
  {
   "cell_type": "code",
   "execution_count": 22,
   "id": "3c76a045",
   "metadata": {},
   "outputs": [
    {
     "name": "stdout",
     "output_type": "stream",
     "text": [
      "724\n"
     ]
    }
   ],
   "source": [
    "fb = pd.read_csv('/Users/tianyisun/Desktop/NLQbatches/batch1/annotationsdescription.csv')\n",
    "#fb.zhengn_code = fbnz.zhengn_code\n",
    "fb['record_id'] = 'record_id'\n",
    "fb['coder_tianyi'] = 'tianyi'\n",
    "fb['coder_zhengn'] = 'zhengn'\n",
    "fb['coder_zhengz'] = 'zhengz'\n",
    "fb['coder_toby'] = 'toby'\n",
    "\n",
    "# split the df\n",
    "tianyisun = fb[['sql_id','coder_tianyi','record_id','code_tianyi']]\n",
    "zhengning = fb[['sql_id','coder_zhengn','record_id','code_zhengn']]\n",
    "zhengzhang = fb[['sql_id','coder_zhengz','record_id','code_zhengz']]\n",
    "tobyli = fb[['sql_id','coder_toby','record_id','code_toby']]\n",
    "\n",
    "# rename the columns\n",
    "tianyisun = tianyisun.rename(columns={\"coder_tianyi\":\"username\"})\n",
    "zhengning = zhengning.rename(columns={\"coder_zhengn\":\"username\"})\n",
    "zhengzhang = zhengzhang.rename(columns={\"coder_zhengz\":\"username\"})\n",
    "tobyli = tobyli.rename(columns={\"coder_toby\":\"username\"})\n",
    "\n",
    "tianyisun = tianyisun.rename(columns={\"code_tianyi\":\"error_classification\"})\n",
    "zhengning = zhengning.rename(columns={\"code_zhengn\":\"error_classification\"})\n",
    "zhengzhang = zhengzhang.rename(columns={\"code_zhengz\":\"error_classification\"})\n",
    "tobyli = tobyli.rename(columns={\"code_toby\":\"error_classification\"})\n",
    "\n",
    "# aggregate the columns \n",
    "feedback1 = tianyisun.append(zhengning, ignore_index=True, sort=False)\n",
    "feedback1 = feedback1.append(zhengzhang, ignore_index=True, sort=False)\n",
    "feedback1 = feedback1.append(tobyli, ignore_index=True, sort=False)\n",
    "print(len(feedback1))\n",
    "len(feedback1.sql_id.unique())\n",
    "feedback1 = feedback1.drop_duplicates(subset =['sql_id','username','error_classification'])\n",
    "feedback =feedback1\n",
    "\n",
    "'''error type''' # feedback = non-duplicate task'''\n",
    "code = feedback['error_classification'].str.split(';', expand=True)\n",
    "code.columns = ['error_classification{}'.format(x+1) for x in code.columns]\n",
    "result = feedback.join(code)\n",
    "print(len(result))\n",
    "print(len(code))\n",
    "result.head(3)"
   ]
  },
  {
   "cell_type": "code",
   "execution_count": 82,
   "id": "4736d948",
   "metadata": {},
   "outputs": [
    {
     "name": "stdout",
     "output_type": "stream",
     "text": [
      "error type\n",
      "The # of annotation task, before removing empty spaces: 2270\n",
      "The # of annotation task, after removing empty spaces: 468\n",
      "The # of unique single error types: 40\n",
      "The # of non empty error types: 1501\n"
     ]
    },
    {
     "data": {
      "text/plain": [
       "46"
      ]
     },
     "execution_count": 82,
     "metadata": {},
     "output_type": "execute_result"
    }
   ],
   "source": [
    "for i in range(len(result)):\n",
    "    feedback['error_classification'].str.split(';', expand=True)\n",
    "    \n",
    "'''\n",
    "[username,record_id,error_classification]\n",
    "'''\n",
    "annot = []\n",
    "for i in range(0,len(result)): \n",
    "    for j in range(4,len(result.columns)):\n",
    "        annot.append([result.iloc[i][0], result.iloc[i][1], result.iloc[i][2], result.iloc[i,j]])\n",
    "\n",
    "        \n",
    "        \n",
    "#        res = [char for char in test_str if char.isupper()]   \n",
    "'''remove empty spaces'''\n",
    "annotask = []\n",
    "count=0\n",
    "for i in annot:\n",
    "    if str(i[3]) == 'None':\n",
    "        count+=1\n",
    "    if type(i[3]) is str:\n",
    "        i[3] = (i[3]).replace(' ', '')\n",
    "       # if i[3].isupper()==True:\n",
    "        annotask.append(i)\n",
    "\n",
    "res = []\n",
    "for i in annotask:\n",
    "    if i not in res:\n",
    "        res.append(i)\n",
    "print('error type')      \n",
    "print('The # of annotation task, before removing empty spaces:', len(annot))\n",
    "print('The # of annotation task, after removing empty spaces:', len(res))\n",
    "'''df format of annotation task'''\n",
    "ann =DataFrame(res)\n",
    "\n",
    "print('The # of unique single error types:', len(ann.iloc[:,3].unique()))   \n",
    "print('The # of non empty error types:', count)\n",
    "ann.columns =['sql_id', 'username', 'record_id', 'code']\n",
    "ann.head(3)\n",
    "\n",
    "len(ann.sql_id.unique())"
   ]
  },
  {
   "cell_type": "code",
   "execution_count": 87,
   "id": "b23f446d",
   "metadata": {},
   "outputs": [],
   "source": [
    "ann.to_csv('batch1/batch1_anntask_sql_type.csv', index = True)"
   ]
  },
  {
   "cell_type": "markdown",
   "id": "749d873e",
   "metadata": {},
   "source": [
    "---"
   ]
  },
  {
   "cell_type": "code",
   "execution_count": 144,
   "id": "4c62c3d6",
   "metadata": {
    "execution": {
     "iopub.execute_input": "2021-09-07T22:18:51.279547Z",
     "iopub.status.busy": "2021-09-07T22:18:51.262433Z",
     "iopub.status.idle": "2021-09-07T22:18:53.450324Z",
     "shell.execute_reply": "2021-09-07T22:18:53.449634Z",
     "shell.execute_reply.started": "2021-09-07T22:17:03.977855Z"
    },
    "papermill": {
     "duration": 2.243184,
     "end_time": "2021-09-07T22:18:53.450474",
     "exception": false,
     "start_time": "2021-09-07T22:18:51.207290",
     "status": "completed"
    },
    "tags": []
   },
   "outputs": [
    {
     "name": "stdout",
     "output_type": "stream",
     "text": [
      "2662\n",
      "2662\n",
      "error category\n",
      "The # of annotation task, before removing empty spaces: 85184\n",
      "The # of annotation task, after removing empty spaces: 6325\n",
      "The # of unique single error categorys: 13\n",
      "The # of non empty error categorys: 59496\n"
     ]
    },
    {
     "data": {
      "text/plain": [
       "1098"
      ]
     },
     "execution_count": 144,
     "metadata": {},
     "output_type": "execute_result"
    }
   ],
   "source": [
    "'''error category'''\n",
    "rs = feedback   #rs = error type \n",
    "code = feedback['error_classification'].str.split('', expand=True)\n",
    "code.columns = ['error_classification{}'.format(x+1) for x in code.columns]\n",
    "result = feedback.join(code)\n",
    "print(len(result))\n",
    "print(len(code))\n",
    "result.head(2)\n",
    "\n",
    "'''\n",
    "[username,record_id,error_classification]\n",
    "'''\n",
    "annot = []\n",
    "for i in range(0,len(result)): \n",
    "    for j in range(4,len(result.columns)):\n",
    "        annot.append([result.sql_id[i], result.username[i], result.record_id[i], result.iloc[i,j]])\n",
    "\n",
    "#        res = [char for char in test_str if char.isupper()]   \n",
    "'''remove empty spaces'''\n",
    "annotask = []\n",
    "count=0\n",
    "for i in annot:\n",
    "    if str(i[3]) == 'None':\n",
    "        count+=1\n",
    "    if type(i[3]) is str:\n",
    "        i[3] = (i[3]).replace(' ', '')\n",
    "        if i[3].isupper()==True:\n",
    "            annotask.append(i)\n",
    "\n",
    "res = []\n",
    "for i in annotask:\n",
    "    if i not in res:\n",
    "        res.append(i)\n",
    "\n",
    "print('error category') \n",
    "print('The # of annotation task, before removing empty spaces:', len(annot))\n",
    "print('The # of annotation task, after removing empty spaces:',len(res))\n",
    "'''df format of annotation task'''\n",
    "ann =DataFrame(res)\n",
    "\n",
    "print('The # of unique single error categorys:', len(ann.iloc[:,3].unique()))   \n",
    "print('The # of non empty error categorys:', count)\n",
    "ann.columns =['sql_id', 'username', 'record_id', 'code']\n",
    "ann.head(3)\n",
    "ann.to_csv('batch7/correct_batch4567_anntask_sql_errorcategory.csv', index = True)\n",
    "len(ann.sql_id.unique())"
   ]
  },
  {
   "cell_type": "markdown",
   "id": "412d12b8",
   "metadata": {
    "papermill": {
     "duration": 0.023879,
     "end_time": "2021-09-07T22:18:53.497684",
     "exception": false,
     "start_time": "2021-09-07T22:18:53.473805",
     "status": "completed"
    },
    "tags": []
   },
   "source": [
    "---\n",
    "--- \n",
    "batch6 "
   ]
  },
  {
   "cell_type": "code",
   "execution_count": 15,
   "id": "7e580fab",
   "metadata": {
    "execution": {
     "iopub.execute_input": "2021-09-07T22:18:53.551422Z",
     "iopub.status.busy": "2021-09-07T22:18:53.550396Z",
     "iopub.status.idle": "2021-09-07T22:18:53.553560Z",
     "shell.execute_reply": "2021-09-07T22:18:53.554117Z",
     "shell.execute_reply.started": "2021-09-07T22:09:49.802103Z"
    },
    "papermill": {
     "duration": 0.033295,
     "end_time": "2021-09-07T22:18:53.554300",
     "exception": false,
     "start_time": "2021-09-07T22:18:53.521005",
     "status": "completed"
    },
    "tags": []
   },
   "outputs": [],
   "source": [
    "# check for duplicate ids\n",
    "#batch6.sql_id.value_counts()\n",
    "# check the # of rows "
   ]
  },
  {
   "cell_type": "code",
   "execution_count": 16,
   "id": "f3a63c6c",
   "metadata": {
    "execution": {
     "iopub.execute_input": "2021-09-07T22:18:53.620323Z",
     "iopub.status.busy": "2021-09-07T22:18:53.619531Z",
     "iopub.status.idle": "2021-09-07T22:18:53.638791Z",
     "shell.execute_reply": "2021-09-07T22:18:53.638159Z",
     "shell.execute_reply.started": "2021-09-07T22:17:47.612441Z"
    },
    "papermill": {
     "duration": 0.060505,
     "end_time": "2021-09-07T22:18:53.638944",
     "exception": false,
     "start_time": "2021-09-07T22:18:53.578439",
     "status": "completed"
    },
    "tags": []
   },
   "outputs": [
    {
     "data": {
      "text/html": [
       "<div>\n",
       "<style scoped>\n",
       "    .dataframe tbody tr th:only-of-type {\n",
       "        vertical-align: middle;\n",
       "    }\n",
       "\n",
       "    .dataframe tbody tr th {\n",
       "        vertical-align: top;\n",
       "    }\n",
       "\n",
       "    .dataframe thead th {\n",
       "        text-align: right;\n",
       "    }\n",
       "</style>\n",
       "<table border=\"1\" class=\"dataframe\">\n",
       "  <thead>\n",
       "    <tr style=\"text-align: right;\">\n",
       "      <th></th>\n",
       "      <th>sql_id</th>\n",
       "      <th>username</th>\n",
       "      <th>record_id</th>\n",
       "      <th>error_classification</th>\n",
       "    </tr>\n",
       "  </thead>\n",
       "  <tbody>\n",
       "    <tr>\n",
       "      <th>0</th>\n",
       "      <td>1404</td>\n",
       "      <td>tianyi</td>\n",
       "      <td>2a278125-6a83-47c2-b2b8-64556ec7ee8c</td>\n",
       "      <td>F4, BL1</td>\n",
       "    </tr>\n",
       "    <tr>\n",
       "      <th>1</th>\n",
       "      <td>1407</td>\n",
       "      <td>tianyi</td>\n",
       "      <td>6cff1386-59ad-4a2a-886b-c8eef90af993</td>\n",
       "      <td>L4, CM6</td>\n",
       "    </tr>\n",
       "    <tr>\n",
       "      <th>2</th>\n",
       "      <td>1408</td>\n",
       "      <td>tianyi</td>\n",
       "      <td>4253e6ef-1545-4ad4-b4be-0e9b4a74151f</td>\n",
       "      <td>BE5, F4, BL1</td>\n",
       "    </tr>\n",
       "    <tr>\n",
       "      <th>3</th>\n",
       "      <td>1412</td>\n",
       "      <td>tianyi</td>\n",
       "      <td>b95871db-2f46-4769-bad3-1e5d2e7d8525</td>\n",
       "      <td>F4, E1, L5, AN2</td>\n",
       "    </tr>\n",
       "    <tr>\n",
       "      <th>4</th>\n",
       "      <td>1413</td>\n",
       "      <td>tianyi</td>\n",
       "      <td>a0f07eae-7570-42d2-83c1-0a4d69f7b03a</td>\n",
       "      <td>BE5, L5, CE2, F3</td>\n",
       "    </tr>\n",
       "    <tr>\n",
       "      <th>...</th>\n",
       "      <td>...</td>\n",
       "      <td>...</td>\n",
       "      <td>...</td>\n",
       "      <td>...</td>\n",
       "    </tr>\n",
       "    <tr>\n",
       "      <th>791</th>\n",
       "      <td>2270</td>\n",
       "      <td>zhengning</td>\n",
       "      <td>6f54f5ff-e8a4-4858-87f5-ac846e5ebcdd</td>\n",
       "      <td>A2a, P3, K2, F2</td>\n",
       "    </tr>\n",
       "    <tr>\n",
       "      <th>792</th>\n",
       "      <td>2283</td>\n",
       "      <td>zhengning</td>\n",
       "      <td>ec043c31-10b6-4724-a3e6-50e596084e79</td>\n",
       "      <td>BK1, CE2</td>\n",
       "    </tr>\n",
       "    <tr>\n",
       "      <th>793</th>\n",
       "      <td>2285</td>\n",
       "      <td>zhengning</td>\n",
       "      <td>2554e37e-497d-45c7-96f9-e739d315b854</td>\n",
       "      <td>BL1</td>\n",
       "    </tr>\n",
       "    <tr>\n",
       "      <th>794</th>\n",
       "      <td>2286</td>\n",
       "      <td>zhengning</td>\n",
       "      <td>0bb11ab9-0a53-4f6b-ba58-d754a2920e18</td>\n",
       "      <td>A2c, E1</td>\n",
       "    </tr>\n",
       "    <tr>\n",
       "      <th>795</th>\n",
       "      <td>2287</td>\n",
       "      <td>zhengning</td>\n",
       "      <td>0d18ea30-aaee-41ad-95d0-974ee83c1360</td>\n",
       "      <td>A2c, E1</td>\n",
       "    </tr>\n",
       "  </tbody>\n",
       "</table>\n",
       "<p>796 rows × 4 columns</p>\n",
       "</div>"
      ],
      "text/plain": [
       "     sql_id   username                             record_id  \\\n",
       "0      1404     tianyi  2a278125-6a83-47c2-b2b8-64556ec7ee8c   \n",
       "1      1407     tianyi  6cff1386-59ad-4a2a-886b-c8eef90af993   \n",
       "2      1408     tianyi  4253e6ef-1545-4ad4-b4be-0e9b4a74151f   \n",
       "3      1412     tianyi  b95871db-2f46-4769-bad3-1e5d2e7d8525   \n",
       "4      1413     tianyi  a0f07eae-7570-42d2-83c1-0a4d69f7b03a   \n",
       "..      ...        ...                                   ...   \n",
       "791    2270  zhengning  6f54f5ff-e8a4-4858-87f5-ac846e5ebcdd   \n",
       "792    2283  zhengning  ec043c31-10b6-4724-a3e6-50e596084e79   \n",
       "793    2285  zhengning  2554e37e-497d-45c7-96f9-e739d315b854   \n",
       "794    2286  zhengning  0bb11ab9-0a53-4f6b-ba58-d754a2920e18   \n",
       "795    2287  zhengning  0d18ea30-aaee-41ad-95d0-974ee83c1360   \n",
       "\n",
       "    error_classification  \n",
       "0                F4, BL1  \n",
       "1                L4, CM6  \n",
       "2           BE5, F4, BL1  \n",
       "3        F4, E1, L5, AN2  \n",
       "4       BE5, L5, CE2, F3  \n",
       "..                   ...  \n",
       "791      A2a, P3, K2, F2  \n",
       "792             BK1, CE2  \n",
       "793                  BL1  \n",
       "794              A2c, E1  \n",
       "795              A2c, E1  \n",
       "\n",
       "[796 rows x 4 columns]"
      ]
     },
     "execution_count": 16,
     "metadata": {},
     "output_type": "execute_result"
    }
   ],
   "source": [
    "# split the df\n",
    "tianyisun = batch6[['sql_id','username_x','record_id_x','error_classification_x']]\n",
    "zhengning = batch6[['sql_id','username_y','record_id_y','error_classification_y']]\n",
    "# rename the columns\n",
    "tianyisun = tianyisun.rename(columns={\"username_x\":\"username\"})\n",
    "tianyisun = tianyisun.rename(columns={\"record_id_x\":\"record_id\"})\n",
    "tianyisun = tianyisun.rename(columns={\"error_classification_x\":\"error_classification\"})\n",
    "zhengning = zhengning.rename(columns={\"username_y\":\"username\"})\n",
    "zhengning = zhengning.rename(columns={\"record_id_y\":\"record_id\"})\n",
    "zhengning = zhengning.rename(columns={\"error_classification_y\":\"error_classification\"})\n",
    "# aggregate the columns \n",
    "feedback = tianyisun.append(zhengning, ignore_index=True, sort=False)\n",
    "feedback"
   ]
  },
  {
   "cell_type": "code",
   "execution_count": 17,
   "id": "78cfb8e5",
   "metadata": {
    "execution": {
     "iopub.execute_input": "2021-09-07T22:18:53.692122Z",
     "iopub.status.busy": "2021-09-07T22:18:53.691212Z",
     "iopub.status.idle": "2021-09-07T22:18:53.697043Z",
     "shell.execute_reply": "2021-09-07T22:18:53.696365Z",
     "shell.execute_reply.started": "2021-09-07T22:17:51.147310Z"
    },
    "papermill": {
     "duration": 0.034423,
     "end_time": "2021-09-07T22:18:53.697203",
     "exception": false,
     "start_time": "2021-09-07T22:18:53.662780",
     "status": "completed"
    },
    "tags": []
   },
   "outputs": [
    {
     "data": {
      "text/plain": [
       "398"
      ]
     },
     "execution_count": 17,
     "metadata": {},
     "output_type": "execute_result"
    }
   ],
   "source": [
    "len(feedback.sql_id.unique())"
   ]
  },
  {
   "cell_type": "code",
   "execution_count": 18,
   "id": "7fc0c888",
   "metadata": {
    "execution": {
     "iopub.execute_input": "2021-09-07T22:18:53.764537Z",
     "iopub.status.busy": "2021-09-07T22:18:53.749073Z",
     "iopub.status.idle": "2021-09-07T22:18:54.299042Z",
     "shell.execute_reply": "2021-09-07T22:18:54.298291Z",
     "shell.execute_reply.started": "2021-09-07T22:17:53.880959Z"
    },
    "papermill": {
     "duration": 0.577814,
     "end_time": "2021-09-07T22:18:54.299206",
     "exception": false,
     "start_time": "2021-09-07T22:18:53.721392",
     "status": "completed"
    },
    "tags": []
   },
   "outputs": [
    {
     "name": "stdout",
     "output_type": "stream",
     "text": [
      "796\n",
      "796\n",
      "error type\n",
      "The # of annotation task, before removing empty spaces: 5572\n",
      "The # of annotation task, after removing  1490  empty spaces:\n",
      "The # of unique single error types: 52\n",
      "The # of non empty error types: 4054\n"
     ]
    },
    {
     "data": {
      "text/plain": [
       "397"
      ]
     },
     "execution_count": 18,
     "metadata": {},
     "output_type": "execute_result"
    }
   ],
   "source": [
    "'''error type''' # feedback = non-duplicate task'''\n",
    "code = feedback['error_classification'].str.split(',', expand=True)\n",
    "code.columns = ['error_classification{}'.format(x+1) for x in code.columns]\n",
    "result = feedback.join(code)\n",
    "print(len(result))\n",
    "print(len(code))\n",
    "result.head(2)\n",
    "\n",
    "'''\n",
    "[username,record_id,error_classification]\n",
    "'''\n",
    "annot = []\n",
    "for i in range(0,len(result)): \n",
    "    for j in range(4,len(result.columns)):\n",
    "        annot.append([result.sql_id[i], result.username[i], result.record_id[i], result.iloc[i,j]])\n",
    "\n",
    "#        res = [char for char in test_str if char.isupper()]   \n",
    "'''remove empty spaces'''\n",
    "annotask = []\n",
    "count=0\n",
    "for i in annot:\n",
    "    if str(i[3]) == 'None':\n",
    "        count+=1\n",
    "    if type(i[3]) is str:\n",
    "        i[3] = (i[3]).replace(' ', '')\n",
    "       # if i[3].isupper()==True:\n",
    "        annotask.append(i)\n",
    "\n",
    "res = []\n",
    "for i in annotask:\n",
    "    if i not in res:\n",
    "        res.append(i)\n",
    "print('error type')      \n",
    "print('The # of annotation task, before removing empty spaces:', len(annot))\n",
    "print('The # of annotation task, after removing ', len(res), ' empty spaces:')\n",
    "'''df format of annotation task'''\n",
    "ann =DataFrame(res)\n",
    "\n",
    "print('The # of unique single error types:', len(ann.iloc[:,3].unique()))   \n",
    "print('The # of non empty error types:', count)\n",
    "ann.columns =['sql_id', 'username', 'record_id', 'code']\n",
    "ann.head(3)\n",
    "ann.to_csv('batch6_annotationtask_sql_type.csv', index = True)\n",
    "len(ann.sql_id.unique())"
   ]
  },
  {
   "cell_type": "code",
   "execution_count": 43,
   "id": "9b8f98fe",
   "metadata": {},
   "outputs": [
    {
     "data": {
      "text/html": [
       "<div>\n",
       "<style scoped>\n",
       "    .dataframe tbody tr th:only-of-type {\n",
       "        vertical-align: middle;\n",
       "    }\n",
       "\n",
       "    .dataframe tbody tr th {\n",
       "        vertical-align: top;\n",
       "    }\n",
       "\n",
       "    .dataframe thead th {\n",
       "        text-align: right;\n",
       "    }\n",
       "</style>\n",
       "<table border=\"1\" class=\"dataframe\">\n",
       "  <thead>\n",
       "    <tr style=\"text-align: right;\">\n",
       "      <th></th>\n",
       "      <th>coder</th>\n",
       "      <th>id</th>\n",
       "      <th>error_classification</th>\n",
       "      <th>record_id</th>\n",
       "      <th>username</th>\n",
       "      <th>sql_id</th>\n",
       "    </tr>\n",
       "  </thead>\n",
       "  <tbody>\n",
       "    <tr>\n",
       "      <th>0</th>\n",
       "      <td>toby</td>\n",
       "      <td>0</td>\n",
       "      <td>A1a</td>\n",
       "      <td>07cd3641-37d2-4d77-adc6-3145d6a1ed7b</td>\n",
       "      <td>zhengzhang</td>\n",
       "      <td>2149</td>\n",
       "    </tr>\n",
       "    <tr>\n",
       "      <th>1</th>\n",
       "      <td>toby</td>\n",
       "      <td>1</td>\n",
       "      <td>A1a</td>\n",
       "      <td>43fe6397-5991-4649-93f7-b2799ca6bdc5</td>\n",
       "      <td>tianyi</td>\n",
       "      <td>2149</td>\n",
       "    </tr>\n",
       "    <tr>\n",
       "      <th>2</th>\n",
       "      <td>toby</td>\n",
       "      <td>2</td>\n",
       "      <td>A1a</td>\n",
       "      <td>c9da76da-8852-4f87-b6f7-46fbc71c97f5</td>\n",
       "      <td>zhengning</td>\n",
       "      <td>2149</td>\n",
       "    </tr>\n",
       "    <tr>\n",
       "      <th>3</th>\n",
       "      <td>toby</td>\n",
       "      <td>3</td>\n",
       "      <td>A1a</td>\n",
       "      <td>bb34cb0a-bb6f-43ff-8602-e9a4e7f9aafe</td>\n",
       "      <td>toby</td>\n",
       "      <td>2149</td>\n",
       "    </tr>\n",
       "    <tr>\n",
       "      <th>4</th>\n",
       "      <td>toby</td>\n",
       "      <td>4</td>\n",
       "      <td>BL1</td>\n",
       "      <td>083648b7-309e-494b-a65c-f23938a5529e</td>\n",
       "      <td>zhengzhang</td>\n",
       "      <td>532</td>\n",
       "    </tr>\n",
       "    <tr>\n",
       "      <th>...</th>\n",
       "      <td>...</td>\n",
       "      <td>...</td>\n",
       "      <td>...</td>\n",
       "      <td>...</td>\n",
       "      <td>...</td>\n",
       "      <td>...</td>\n",
       "    </tr>\n",
       "    <tr>\n",
       "      <th>984</th>\n",
       "      <td>zhengz</td>\n",
       "      <td>5</td>\n",
       "      <td>BL1</td>\n",
       "      <td>44ed974d-1e31-4858-90d1-02ef847715a9</td>\n",
       "      <td>tianyi</td>\n",
       "      <td>532</td>\n",
       "    </tr>\n",
       "    <tr>\n",
       "      <th>985</th>\n",
       "      <td>zhengz</td>\n",
       "      <td>7</td>\n",
       "      <td>BL1</td>\n",
       "      <td>6af39e05-6ffe-44be-bd00-6cea7df72725</td>\n",
       "      <td>toby</td>\n",
       "      <td>532</td>\n",
       "    </tr>\n",
       "    <tr>\n",
       "      <th>986</th>\n",
       "      <td>zhengz</td>\n",
       "      <td>100</td>\n",
       "      <td>BF4</td>\n",
       "      <td>8fd24b43-e89c-45c4-b06c-82b4a0e511b4</td>\n",
       "      <td>toby</td>\n",
       "      <td>1151</td>\n",
       "    </tr>\n",
       "    <tr>\n",
       "      <th>987</th>\n",
       "      <td>zhengz</td>\n",
       "      <td>102</td>\n",
       "      <td>CL1</td>\n",
       "      <td>31356e1d-edf2-4984-a80c-e35111ad300b</td>\n",
       "      <td>tianyi</td>\n",
       "      <td>2051</td>\n",
       "    </tr>\n",
       "    <tr>\n",
       "      <th>988</th>\n",
       "      <td>zhengz</td>\n",
       "      <td>143</td>\n",
       "      <td>BF4</td>\n",
       "      <td>e7107bae-a61a-4ae9-bd8c-367741c073e5</td>\n",
       "      <td>tianyi</td>\n",
       "      <td>2025</td>\n",
       "    </tr>\n",
       "  </tbody>\n",
       "</table>\n",
       "<p>989 rows × 6 columns</p>\n",
       "</div>"
      ],
      "text/plain": [
       "      coder   id error_classification                             record_id  \\\n",
       "0      toby    0                  A1a  07cd3641-37d2-4d77-adc6-3145d6a1ed7b   \n",
       "1      toby    1                  A1a  43fe6397-5991-4649-93f7-b2799ca6bdc5   \n",
       "2      toby    2                  A1a  c9da76da-8852-4f87-b6f7-46fbc71c97f5   \n",
       "3      toby    3                  A1a  bb34cb0a-bb6f-43ff-8602-e9a4e7f9aafe   \n",
       "4      toby    4                  BL1  083648b7-309e-494b-a65c-f23938a5529e   \n",
       "..      ...  ...                  ...                                   ...   \n",
       "984  zhengz    5                  BL1  44ed974d-1e31-4858-90d1-02ef847715a9   \n",
       "985  zhengz    7                  BL1  6af39e05-6ffe-44be-bd00-6cea7df72725   \n",
       "986  zhengz  100                  BF4  8fd24b43-e89c-45c4-b06c-82b4a0e511b4   \n",
       "987  zhengz  102                  CL1  31356e1d-edf2-4984-a80c-e35111ad300b   \n",
       "988  zhengz  143                  BF4  e7107bae-a61a-4ae9-bd8c-367741c073e5   \n",
       "\n",
       "       username  sql_id  \n",
       "0    zhengzhang    2149  \n",
       "1        tianyi    2149  \n",
       "2     zhengning    2149  \n",
       "3          toby    2149  \n",
       "4    zhengzhang     532  \n",
       "..          ...     ...  \n",
       "984      tianyi     532  \n",
       "985        toby     532  \n",
       "986        toby    1151  \n",
       "987      tianyi    2051  \n",
       "988      tianyi    2025  \n",
       "\n",
       "[989 rows x 6 columns]"
      ]
     },
     "execution_count": 43,
     "metadata": {},
     "output_type": "execute_result"
    }
   ],
   "source": [
    "proc1 = pd.read_csv('/Users/tianyisun/Desktop/NLQbatches/batch1/anntask.csv')\n",
    "proc2 = pd.read_csv('/Users/tianyisun/Desktop/NLQbatches/batch1/mapping.csv')\n",
    "annotation = pd.merge(proc1, proc2, on ='id', how = 'left')\n",
    "feedback = annotation\n",
    "feedback = feedback.rename(columns={\"category\":\"error_classification\"})\n",
    "#feedback = feedback.rename(columns={\"coder\":\"username\"})\n",
    "feedback"
   ]
  },
  {
   "cell_type": "code",
   "execution_count": 44,
   "id": "72a03b4f",
   "metadata": {
    "execution": {
     "iopub.execute_input": "2021-09-07T22:18:54.369392Z",
     "iopub.status.busy": "2021-09-07T22:18:54.368202Z",
     "iopub.status.idle": "2021-09-07T22:18:56.465450Z",
     "shell.execute_reply": "2021-09-07T22:18:56.465944Z",
     "shell.execute_reply.started": "2021-09-07T22:17:58.329025Z"
    },
    "papermill": {
     "duration": 2.140916,
     "end_time": "2021-09-07T22:18:56.466129",
     "exception": false,
     "start_time": "2021-09-07T22:18:54.325213",
     "status": "completed"
    },
    "tags": []
   },
   "outputs": [
    {
     "name": "stdout",
     "output_type": "stream",
     "text": [
      "989\n",
      "989\n",
      "error category\n",
      "The # of annotation task, before removing empty spaces: 7912\n",
      "The # of annotation task, after removing empty spaces: 509\n",
      "The # of unique single error categorys: 13\n",
      "The # of non empty error categorys: 1210\n"
     ]
    },
    {
     "data": {
      "text/plain": [
       "46"
      ]
     },
     "execution_count": 44,
     "metadata": {},
     "output_type": "execute_result"
    }
   ],
   "source": [
    "'''error category'''\n",
    "rs = feedback   #rs = error type \n",
    "code = feedback['error_classification'].str.split('', expand=True)\n",
    "code.columns = ['error_classification{}'.format(x+1) for x in code.columns]\n",
    "result = feedback.join(code)\n",
    "print(len(result))\n",
    "print(len(code))\n",
    "result.head(2)\n",
    "\n",
    "'''\n",
    "[username,record_id,error_classification]\n",
    "'''\n",
    "annot = []\n",
    "for i in range(0,len(result)): \n",
    "    for j in range(4,len(result.columns)):\n",
    "        annot.append([result.sql_id[i], result.username[i], result.record_id[i], result.iloc[i,j]])\n",
    "        #annot.append([result.sql_id[i], result.username[i], result.iloc[i,j]])\n",
    "\n",
    "#        res = [char for char in test_str if char.isupper()]   \n",
    "'''remove empty spaces'''\n",
    "annotask = []\n",
    "count=0\n",
    "for i in annot:\n",
    "    if str(i[3]) == 'None':\n",
    "        count+=1\n",
    "    if type(i[3]) is str:\n",
    "        i[3] = (i[3]).replace(' ', '')\n",
    "        if i[3].isupper()==True:\n",
    "            annotask.append(i)\n",
    "\n",
    "res = []\n",
    "for i in annotask:\n",
    "    if i not in res:\n",
    "        res.append(i)\n",
    "\n",
    "print('error category') \n",
    "print('The # of annotation task, before removing empty spaces:', len(annot))\n",
    "print('The # of annotation task, after removing empty spaces:',len(res))\n",
    "'''df format of annotation task'''\n",
    "ann =DataFrame(res)\n",
    "\n",
    "print('The # of unique single error categorys:', len(ann.iloc[:,3].unique()))   \n",
    "print('The # of non empty error categorys:', count)\n",
    "ann.columns =['sql_id', 'username', 'record_id', 'code']\n",
    "#ann.columns =['sql_id', 'username', 'code']\n",
    "ann.head(3)\n",
    "#ann.to_csv('batch6_annotationtask_sql_errorcategory.csv', index = True)\n",
    "len(ann.sql_id.unique())"
   ]
  },
  {
   "cell_type": "code",
   "execution_count": null,
   "id": "bdba03a5",
   "metadata": {},
   "outputs": [],
   "source": []
  }
 ],
 "metadata": {
  "kernelspec": {
   "display_name": "Python 3 (ipykernel)",
   "language": "python",
   "name": "python3"
  },
  "language_info": {
   "codemirror_mode": {
    "name": "ipython",
    "version": 3
   },
   "file_extension": ".py",
   "mimetype": "text/x-python",
   "name": "python",
   "nbconvert_exporter": "python",
   "pygments_lexer": "ipython3",
   "version": "3.9.7"
  },
  "papermill": {
   "default_parameters": {},
   "duration": 16.826965,
   "end_time": "2021-09-07T22:18:58.033399",
   "environment_variables": {},
   "exception": null,
   "input_path": "__notebook__.ipynb",
   "output_path": "__notebook__.ipynb",
   "parameters": {},
   "start_time": "2021-09-07T22:18:41.206434",
   "version": "2.3.3"
  }
 },
 "nbformat": 4,
 "nbformat_minor": 5
}
